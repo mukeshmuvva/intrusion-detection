{
  "nbformat": 4,
  "nbformat_minor": 0,
  "metadata": {
    "accelerator": "TPU",
    "colab": {
      "name": "IOTTRY.ipynb",
      "provenance": [],
      "collapsed_sections": [],
      "machine_shape": "hm"
    },
    "kernelspec": {
      "display_name": "Python 3",
      "name": "python3"
    },
    "language_info": {
      "name": "python"
    },
    "widgets": {
      "application/vnd.jupyter.widget-state+json": {
        "473483b2318b428f9062edfb725c6bc7": {
          "model_module": "@jupyter-widgets/controls",
          "model_name": "HBoxModel",
          "model_module_version": "1.5.0",
          "state": {
            "_view_name": "HBoxView",
            "_dom_classes": [],
            "_model_name": "HBoxModel",
            "_view_module": "@jupyter-widgets/controls",
            "_model_module_version": "1.5.0",
            "_view_count": null,
            "_view_module_version": "1.5.0",
            "box_style": "",
            "layout": "IPY_MODEL_5fc618268c644518835b0c3dec00f414",
            "_model_module": "@jupyter-widgets/controls",
            "children": [
              "IPY_MODEL_44f3dc2d387b42f29dee05f086ea9ba7",
              "IPY_MODEL_4690b1b2edae433e9716ead5d68109e6",
              "IPY_MODEL_bc5d7f637e9949c7af6344be629bf4d7"
            ]
          }
        },
        "5fc618268c644518835b0c3dec00f414": {
          "model_module": "@jupyter-widgets/base",
          "model_name": "LayoutModel",
          "model_module_version": "1.2.0",
          "state": {
            "_view_name": "LayoutView",
            "grid_template_rows": null,
            "right": null,
            "justify_content": null,
            "_view_module": "@jupyter-widgets/base",
            "overflow": null,
            "_model_module_version": "1.2.0",
            "_view_count": null,
            "flex_flow": "row wrap",
            "width": "100%",
            "min_width": null,
            "border": null,
            "align_items": null,
            "bottom": null,
            "_model_module": "@jupyter-widgets/base",
            "top": null,
            "grid_column": null,
            "overflow_y": null,
            "overflow_x": null,
            "grid_auto_flow": null,
            "grid_area": null,
            "grid_template_columns": null,
            "flex": null,
            "_model_name": "LayoutModel",
            "justify_items": null,
            "grid_row": null,
            "max_height": null,
            "align_content": null,
            "visibility": null,
            "align_self": null,
            "height": null,
            "min_height": null,
            "padding": null,
            "grid_auto_rows": null,
            "grid_gap": null,
            "max_width": null,
            "order": null,
            "_view_module_version": "1.2.0",
            "grid_template_areas": null,
            "object_position": null,
            "object_fit": null,
            "grid_auto_columns": null,
            "margin": null,
            "display": "inline-flex",
            "left": null
          }
        },
        "44f3dc2d387b42f29dee05f086ea9ba7": {
          "model_module": "@jupyter-widgets/controls",
          "model_name": "HTMLModel",
          "model_module_version": "1.5.0",
          "state": {
            "_view_name": "HTMLView",
            "style": "IPY_MODEL_72bbf322b1004194b54a34ba6af474e2",
            "_dom_classes": [],
            "description": "",
            "_model_name": "HTMLModel",
            "placeholder": "​",
            "_view_module": "@jupyter-widgets/controls",
            "_model_module_version": "1.5.0",
            "value": "Done! Use &#x27;show&#x27; commands to display/save.   ",
            "_view_count": null,
            "_view_module_version": "1.5.0",
            "description_tooltip": null,
            "_model_module": "@jupyter-widgets/controls",
            "layout": "IPY_MODEL_6d211ce677774fc2b063857b148dca5a"
          }
        },
        "4690b1b2edae433e9716ead5d68109e6": {
          "model_module": "@jupyter-widgets/controls",
          "model_name": "FloatProgressModel",
          "model_module_version": "1.5.0",
          "state": {
            "_view_name": "ProgressView",
            "style": "IPY_MODEL_e658f8e9a216472f9ea24cbedf9e7001",
            "_dom_classes": [],
            "description": "",
            "_model_name": "FloatProgressModel",
            "bar_style": "success",
            "max": 1,
            "_view_module": "@jupyter-widgets/controls",
            "_model_module_version": "1.5.0",
            "value": 1,
            "_view_count": null,
            "_view_module_version": "1.5.0",
            "orientation": "horizontal",
            "min": 0,
            "description_tooltip": null,
            "_model_module": "@jupyter-widgets/controls",
            "layout": "IPY_MODEL_cd2a1b8c14af4dac8bfcfca05c5542fb"
          }
        },
        "bc5d7f637e9949c7af6344be629bf4d7": {
          "model_module": "@jupyter-widgets/controls",
          "model_name": "HTMLModel",
          "model_module_version": "1.5.0",
          "state": {
            "_view_name": "HTMLView",
            "style": "IPY_MODEL_19bcd3ed4a9c4bbea625fc35b638ca3b",
            "_dom_classes": [],
            "description": "",
            "_model_name": "HTMLModel",
            "placeholder": "​",
            "_view_module": "@jupyter-widgets/controls",
            "_model_module_version": "1.5.0",
            "value": " [100%]   00:01 -&gt; (00:00 left)",
            "_view_count": null,
            "_view_module_version": "1.5.0",
            "description_tooltip": null,
            "_model_module": "@jupyter-widgets/controls",
            "layout": "IPY_MODEL_3de9ddaf50a04226a9990ad76a802ee9"
          }
        },
        "72bbf322b1004194b54a34ba6af474e2": {
          "model_module": "@jupyter-widgets/controls",
          "model_name": "DescriptionStyleModel",
          "model_module_version": "1.5.0",
          "state": {
            "_view_name": "StyleView",
            "_model_name": "DescriptionStyleModel",
            "description_width": "",
            "_view_module": "@jupyter-widgets/base",
            "_model_module_version": "1.5.0",
            "_view_count": null,
            "_view_module_version": "1.2.0",
            "_model_module": "@jupyter-widgets/controls"
          }
        },
        "6d211ce677774fc2b063857b148dca5a": {
          "model_module": "@jupyter-widgets/base",
          "model_name": "LayoutModel",
          "model_module_version": "1.2.0",
          "state": {
            "_view_name": "LayoutView",
            "grid_template_rows": null,
            "right": null,
            "justify_content": null,
            "_view_module": "@jupyter-widgets/base",
            "overflow": null,
            "_model_module_version": "1.2.0",
            "_view_count": null,
            "flex_flow": null,
            "width": null,
            "min_width": null,
            "border": null,
            "align_items": null,
            "bottom": null,
            "_model_module": "@jupyter-widgets/base",
            "top": null,
            "grid_column": null,
            "overflow_y": null,
            "overflow_x": null,
            "grid_auto_flow": null,
            "grid_area": null,
            "grid_template_columns": null,
            "flex": null,
            "_model_name": "LayoutModel",
            "justify_items": null,
            "grid_row": null,
            "max_height": null,
            "align_content": null,
            "visibility": null,
            "align_self": null,
            "height": null,
            "min_height": null,
            "padding": null,
            "grid_auto_rows": null,
            "grid_gap": null,
            "max_width": null,
            "order": null,
            "_view_module_version": "1.2.0",
            "grid_template_areas": null,
            "object_position": null,
            "object_fit": null,
            "grid_auto_columns": null,
            "margin": null,
            "display": null,
            "left": null
          }
        },
        "e658f8e9a216472f9ea24cbedf9e7001": {
          "model_module": "@jupyter-widgets/controls",
          "model_name": "ProgressStyleModel",
          "model_module_version": "1.5.0",
          "state": {
            "_view_name": "StyleView",
            "_model_name": "ProgressStyleModel",
            "description_width": "",
            "_view_module": "@jupyter-widgets/base",
            "_model_module_version": "1.5.0",
            "_view_count": null,
            "_view_module_version": "1.2.0",
            "bar_color": null,
            "_model_module": "@jupyter-widgets/controls"
          }
        },
        "cd2a1b8c14af4dac8bfcfca05c5542fb": {
          "model_module": "@jupyter-widgets/base",
          "model_name": "LayoutModel",
          "model_module_version": "1.2.0",
          "state": {
            "_view_name": "LayoutView",
            "grid_template_rows": null,
            "right": null,
            "justify_content": null,
            "_view_module": "@jupyter-widgets/base",
            "overflow": null,
            "_model_module_version": "1.2.0",
            "_view_count": null,
            "flex_flow": null,
            "width": null,
            "min_width": null,
            "border": null,
            "align_items": null,
            "bottom": null,
            "_model_module": "@jupyter-widgets/base",
            "top": null,
            "grid_column": null,
            "overflow_y": null,
            "overflow_x": null,
            "grid_auto_flow": null,
            "grid_area": null,
            "grid_template_columns": null,
            "flex": "2",
            "_model_name": "LayoutModel",
            "justify_items": null,
            "grid_row": null,
            "max_height": null,
            "align_content": null,
            "visibility": null,
            "align_self": null,
            "height": null,
            "min_height": null,
            "padding": null,
            "grid_auto_rows": null,
            "grid_gap": null,
            "max_width": null,
            "order": null,
            "_view_module_version": "1.2.0",
            "grid_template_areas": null,
            "object_position": null,
            "object_fit": null,
            "grid_auto_columns": null,
            "margin": null,
            "display": null,
            "left": null
          }
        },
        "19bcd3ed4a9c4bbea625fc35b638ca3b": {
          "model_module": "@jupyter-widgets/controls",
          "model_name": "DescriptionStyleModel",
          "model_module_version": "1.5.0",
          "state": {
            "_view_name": "StyleView",
            "_model_name": "DescriptionStyleModel",
            "description_width": "",
            "_view_module": "@jupyter-widgets/base",
            "_model_module_version": "1.5.0",
            "_view_count": null,
            "_view_module_version": "1.2.0",
            "_model_module": "@jupyter-widgets/controls"
          }
        },
        "3de9ddaf50a04226a9990ad76a802ee9": {
          "model_module": "@jupyter-widgets/base",
          "model_name": "LayoutModel",
          "model_module_version": "1.2.0",
          "state": {
            "_view_name": "LayoutView",
            "grid_template_rows": null,
            "right": null,
            "justify_content": null,
            "_view_module": "@jupyter-widgets/base",
            "overflow": null,
            "_model_module_version": "1.2.0",
            "_view_count": null,
            "flex_flow": null,
            "width": null,
            "min_width": null,
            "border": null,
            "align_items": null,
            "bottom": null,
            "_model_module": "@jupyter-widgets/base",
            "top": null,
            "grid_column": null,
            "overflow_y": null,
            "overflow_x": null,
            "grid_auto_flow": null,
            "grid_area": null,
            "grid_template_columns": null,
            "flex": null,
            "_model_name": "LayoutModel",
            "justify_items": null,
            "grid_row": null,
            "max_height": null,
            "align_content": null,
            "visibility": null,
            "align_self": null,
            "height": null,
            "min_height": null,
            "padding": null,
            "grid_auto_rows": null,
            "grid_gap": null,
            "max_width": null,
            "order": null,
            "_view_module_version": "1.2.0",
            "grid_template_areas": null,
            "object_position": null,
            "object_fit": null,
            "grid_auto_columns": null,
            "margin": null,
            "display": null,
            "left": null
          }
        }
      }
    }
  },
  "cells": [
    {
      "cell_type": "code",
      "metadata": {
        "id": "IrwLs99SutNT"
      },
      "source": [
        "#!pip install sweetviz\n",
        "#!pip install pycaret\n",
        "import pandas as pd\n",
        "import numpy as np\n",
        "import requests\n",
        "import matplotlib.pyplot as plt\n",
        "import seaborn as sns\n",
        "import sweetviz as sv\n",
        "%matplotlib inline"
      ],
      "execution_count": 3,
      "outputs": []
    },
    {
      "cell_type": "code",
      "metadata": {
        "id": "y9bmpemg-1DS"
      },
      "source": [
        "#pip install sweetviz"
      ],
      "execution_count": null,
      "outputs": []
    },
    {
      "cell_type": "code",
      "metadata": {
        "id": "fgAX2BxAXgXp"
      },
      "source": [
        "#!wget https://mcfp.felk.cvut.cz/publicDatasets/IoT-23-Dataset/iot_23_datasets_small.tar.gz"
      ],
      "execution_count": null,
      "outputs": []
    },
    {
      "cell_type": "code",
      "metadata": {
        "colab": {
          "base_uri": "https://localhost:8080/"
        },
        "id": "jbe1iyUKZoh5",
        "outputId": "b56f47c6-39b7-4fc8-f78f-c1dfb8799e5b"
      },
      "source": [
        "#!tar -xvf /content/iot_23_datasets_small.tar.gz"
      ],
      "execution_count": null,
      "outputs": [
        {
          "name": "stdout",
          "output_type": "stream",
          "text": [
            "tar: /content/iot_23_datasets_small.tar.gz: Cannot open: No such file or directory\n",
            "tar: Error is not recoverable: exiting now\n"
          ]
        }
      ]
    },
    {
      "cell_type": "code",
      "metadata": {
        "id": "cylLIcLXe0XJ"
      },
      "source": [
        "#!cp /content/opt/Malware-Project/BigDataset/IoTScenarios/CTU-IoT-Malware-Capture-1-1/bro/conn.log.labeled /content/drive/MyDrive/Term/conn1.log.labeled"
      ],
      "execution_count": null,
      "outputs": []
    },
    {
      "cell_type": "code",
      "metadata": {
        "colab": {
          "base_uri": "https://localhost:8080/"
        },
        "id": "W9xR08sa5oRk",
        "outputId": "8e6ae1f5-df14-4b38-c42c-22b0bc77dfe1"
      },
      "source": [
        "from google.colab import drive\n",
        "drive.mount('/content/drive')"
      ],
      "execution_count": null,
      "outputs": [
        {
          "output_type": "stream",
          "name": "stdout",
          "text": [
            "Mounted at /content/drive\n"
          ]
        }
      ]
    },
    {
      "cell_type": "code",
      "metadata": {
        "id": "YJfIxi9fnhXs"
      },
      "source": [
        "!cp /content/opt/Malware-Project/BigDataset/IoTScenarios/CTU-IoT-Malware-Capture-17-1/bro/conn.log.labeled /content/drive/MyDrive/Term/conn17.log.labeled\n",
        "!cp /content/opt/Malware-Project/BigDataset/IoTScenarios/CTU-IoT-Malware-Capture-20-1/bro/conn.log.labeled /content/drive/MyDrive/Term/conn20.log.labeled\n",
        "!cp /content/opt/Malware-Project/BigDataset/IoTScenarios/CTU-IoT-Malware-Capture-21-1/bro/conn.log.labeled /content/drive/MyDrive/Term/conn21.log.labeled\n",
        "!cp /content/opt/Malware-Project/BigDataset/IoTScenarios/CTU-IoT-Malware-Capture-3-1/bro/conn.log.labeled  /content/drive/MyDrive/Term/conn3.log.labeled\n",
        "!cp /content/opt/Malware-Project/BigDataset/IoTScenarios/CTU-IoT-Malware-Capture-33-1/bro/conn.log.labeled /content/drive/MyDrive/Term/conn33.log.labeled\n",
        "!cp /content/opt/Malware-Project/BigDataset/IoTScenarios/CTU-IoT-Malware-Capture-34-1/bro/conn.log.labeled /content/drive/MyDrive/Term/conn34.log.labeled\n",
        "!cp /content/opt/Malware-Project/BigDataset/IoTScenarios/CTU-IoT-Malware-Capture-35-1/bro/conn.log.labeled /content/drive/MyDrive/Term/conn35.log.labeled\n",
        "!cp /content/opt/Malware-Project/BigDataset/IoTScenarios/CTU-IoT-Malware-Capture-36-1/bro/conn.log.labeled /content/drive/MyDrive/Term/conn36.log.labeled\n",
        "!cp /content/opt/Malware-Project/BigDataset/IoTScenarios/CTU-IoT-Malware-Capture-39-1/bro/conn.log.labeled /content/drive/MyDrive/Term/conn39.log.labeled\n",
        "!cp /content/opt/Malware-Project/BigDataset/IoTScenarios/CTU-IoT-Malware-Capture-42-1/bro/conn.log.labeled /content/drive/MyDrive/Term/conn42.log.labeled\n",
        "!cp /content/opt/Malware-Project/BigDataset/IoTScenarios/CTU-IoT-Malware-Capture-43-1/bro/conn.log.labeled /content/drive/MyDrive/Term/conn43.log.labeled\n",
        "!cp /content/opt/Malware-Project/BigDataset/IoTScenarios/CTU-IoT-Malware-Capture-44-1/bro/conn.log.labeled /content/drive/MyDrive/Term/conn44.log.labeled\n",
        "!cp /content/opt/Malware-Project/BigDataset/IoTScenarios/CTU-IoT-Malware-Capture-48-1/bro/conn.log.labeled /content/drive/MyDrive/Term/conn48.log.labeled\n",
        "!cp /content/opt/Malware-Project/BigDataset/IoTScenarios/CTU-IoT-Malware-Capture-49-1/bro/conn.log.labeled /content/drive/MyDrive/Term/conn49.log.labeled\n",
        "!cp /content/opt/Malware-Project/BigDataset/IoTScenarios/CTU-IoT-Malware-Capture-52-1/bro/conn.log.labeled /content/drive/MyDrive/Term/conn52.log.labeled\n",
        "!cp /content/opt/Malware-Project/BigDataset/IoTScenarios/CTU-IoT-Malware-Capture-60-1/bro/conn.log.labeled /content/drive/MyDrive/Term/conn60.log.labeled\n",
        "!cp /content/opt/Malware-Project/BigDataset/IoTScenarios/CTU-IoT-Malware-Capture-7-1/bro/conn.log.labeled /content/drive/MyDrive/Term/conn7.log.labeled\n",
        "!cp /content/opt/Malware-Project/BigDataset/IoTScenarios/CTU-IoT-Malware-Capture-8-1/bro/conn.log.labeled /content/drive/MyDrive/Term/conn8.log.labeled\n",
        "!cp /content/opt/Malware-Project/BigDataset/IoTScenarios/CTU-IoT-Malware-Capture-9-1/bro/conn.log.labeled /content/drive/MyDrive/Term/conn9.log.labeled\n",
        "!cp /content/opt/Malware-Project/BigDataset/IoTScenarios/CTU-Honeypot-Capture-7-1/Somfy-01/bro/conn.log.labeled /content/drive/MyDrive/Term/conn7-1.log.labeled\n",
        "!cp /content/opt/Malware-Project/BigDataset/IoTScenarios/CTU-Honeypot-Capture-5-1/bro/conn.log.labeled /content/drive/MyDrive/Term/conn5.log.labeled\n",
        "!cp /content/opt/Malware-Project/BigDataset/IoTScenarios/CTU-Honeypot-Capture-4-1/bro/conn.log.labeled /content/drive/MyDrive/Term/conn4.log.labeled"
      ],
      "execution_count": null,
      "outputs": []
    },
    {
      "cell_type": "code",
      "metadata": {
        "id": "uKhwtTMWrLnr"
      },
      "source": [
        "dict_paths={}\n",
        "dict_paths[1]='/content/drive/MyDrive/Term/conn1.log.labeled'\n",
        "dict_paths[17]='/content/drive/MyDrive/Term/conn17.log.labeled'\n",
        "dict_paths[20]='/content/drive/MyDrive/Term/conn20.log.labeled'\n",
        "dict_paths[21]='/content/drive/MyDrive/Term/conn21.log.labeled'\n",
        "dict_paths[3]='/content/drive/MyDrive/Term/conn3.log.labeled'\n",
        "dict_paths[33]='/content/drive/MyDrive/Term/conn33.log.labeled'\n",
        "dict_paths[34]='/content/drive/MyDrive/Term/conn34.log.labeled'\n",
        "dict_paths[35]='/content/drive/MyDrive/Term/conn35.log.labeled'\n",
        "dict_paths[36]='/content/drive/MyDrive/Term/conn36.log.labeled'\n",
        "dict_paths[39]='/content/drive/MyDrive/Term/conn39.log.labeled'\n",
        "dict_paths[42]='/content/drive/MyDrive/Term/conn42.log.labeled'\n",
        "dict_paths[44]='/content/drive/MyDrive/Term/conn44.log.labeled'\n",
        "dict_paths[48]='/content/drive/MyDrive/Term/conn48.log.labeled'\n",
        "dict_paths[49]='/content/drive/MyDrive/Term/conn49.log.labeled'\n",
        "dict_paths[7]='/content/drive/MyDrive/Term/conn7.log.labeled'\n",
        "dict_paths[8]='/content/drive/MyDrive/Term/conn8.log.labeled'\n",
        "dict_paths[9]='/content/drive/MyDrive/Term/conn9.log.labeled'\n",
        "dict_paths[71]='/content/drive/MyDrive/Term/conn71.log.labeled'\n",
        "dict_paths[5]='/content/drive/MyDrive/Term/conn5.log.labeled'\n",
        "dict_paths[4]='/content/drive/MyDrive/Term/conn4.log.labeled'\n",
        "dict_paths[60]='/content/drive/MyDrive/Term/conn60.log.labeled'"
      ],
      "execution_count": null,
      "outputs": []
    },
    {
      "cell_type": "code",
      "metadata": {
        "id": "zxwM-PDDq2f6"
      },
      "source": [
        "df1 = pd.read_table(filepath_or_buffer=dict_paths[1], skiprows=10, nrows=100000)\n",
        "df1.columns=['ts',\n",
        "              'uid',\n",
        "              'id.orig_h',\n",
        "              'id.orig_p',\n",
        "              'id.resp_h',\n",
        "              'id.resp_p',\n",
        "              'proto',\n",
        "              'service',\n",
        "              'duration',\n",
        "              'orig_bytes',\n",
        "              'resp_bytes',\n",
        "              'conn_state',\n",
        "              'local_orig',\n",
        "              'local_resp',\n",
        "              'missed_bytes',\n",
        "              'history',\n",
        "              'orig_pkts',\n",
        "              'orig_ip_bytes',\n",
        "              'resp_pkts',\n",
        "              'resp_ip_bytes',\n",
        "              'label']\n",
        "df1.drop(df1.tail(1).index,inplace=True)"
      ],
      "execution_count": null,
      "outputs": []
    },
    {
      "cell_type": "code",
      "metadata": {
        "id": "Ax6AZ4uJuJa5"
      },
      "source": [
        "df17 = pd.read_table(filepath_or_buffer=dict_paths[17], skiprows=10, nrows=100000)\n",
        "df17.columns=['ts',\n",
        "              'uid',\n",
        "              'id.orig_h',\n",
        "              'id.orig_p',\n",
        "              'id.resp_h',\n",
        "              'id.resp_p',\n",
        "              'proto',\n",
        "              'service',\n",
        "              'duration',\n",
        "              'orig_bytes',\n",
        "              'resp_bytes',\n",
        "              'conn_state',\n",
        "              'local_orig',\n",
        "              'local_resp',\n",
        "              'missed_bytes',\n",
        "              'history',\n",
        "              'orig_pkts',\n",
        "              'orig_ip_bytes',\n",
        "              'resp_pkts',\n",
        "              'resp_ip_bytes',\n",
        "              'label']\n",
        "df17.drop(df17.tail(1).index,inplace=True)"
      ],
      "execution_count": null,
      "outputs": []
    },
    {
      "cell_type": "code",
      "metadata": {
        "id": "giSNXRztuKQU"
      },
      "source": [
        "df20 = pd.read_table(filepath_or_buffer=dict_paths[20], skiprows=10, nrows=100000)\n",
        "df20.columns=['ts',\n",
        "              'uid',\n",
        "              'id.orig_h',\n",
        "              'id.orig_p',\n",
        "              'id.resp_h',\n",
        "              'id.resp_p',\n",
        "              'proto',\n",
        "              'service',\n",
        "              'duration',\n",
        "              'orig_bytes',\n",
        "              'resp_bytes',\n",
        "              'conn_state',\n",
        "              'local_orig',\n",
        "              'local_resp',\n",
        "              'missed_bytes',\n",
        "              'history',\n",
        "              'orig_pkts',\n",
        "              'orig_ip_bytes',\n",
        "              'resp_pkts',\n",
        "              'resp_ip_bytes',\n",
        "              'label']\n",
        "df20.drop(df20.tail(1).index,inplace=True)"
      ],
      "execution_count": null,
      "outputs": []
    },
    {
      "cell_type": "code",
      "metadata": {
        "id": "4XksGOIsuLH-"
      },
      "source": [
        "df21 = pd.read_table(filepath_or_buffer=dict_paths[21], skiprows=10, nrows=100000)\n",
        "df21.columns=['ts',\n",
        "              'uid',\n",
        "              'id.orig_h',\n",
        "              'id.orig_p',\n",
        "              'id.resp_h',\n",
        "              'id.resp_p',\n",
        "              'proto',\n",
        "              'service',\n",
        "              'duration',\n",
        "              'orig_bytes',\n",
        "              'resp_bytes',\n",
        "              'conn_state',\n",
        "              'local_orig',\n",
        "              'local_resp',\n",
        "              'missed_bytes',\n",
        "              'history',\n",
        "              'orig_pkts',\n",
        "              'orig_ip_bytes',\n",
        "              'resp_pkts',\n",
        "              'resp_ip_bytes',\n",
        "              'label']\n",
        "df21.drop(df21.tail(1).index,inplace=True)"
      ],
      "execution_count": null,
      "outputs": []
    },
    {
      "cell_type": "code",
      "metadata": {
        "id": "AXx89EqMuMCW"
      },
      "source": [
        "df3 = pd.read_table(filepath_or_buffer=dict_paths[3], skiprows=10, nrows=100000)\n",
        "df3.columns=['ts',\n",
        "              'uid',\n",
        "              'id.orig_h',\n",
        "              'id.orig_p',\n",
        "              'id.resp_h',\n",
        "              'id.resp_p',\n",
        "              'proto',\n",
        "              'service',\n",
        "              'duration',\n",
        "              'orig_bytes',\n",
        "              'resp_bytes',\n",
        "              'conn_state',\n",
        "              'local_orig',\n",
        "              'local_resp',\n",
        "              'missed_bytes',\n",
        "              'history',\n",
        "              'orig_pkts',\n",
        "              'orig_ip_bytes',\n",
        "              'resp_pkts',\n",
        "              'resp_ip_bytes',\n",
        "              'label']\n",
        "df3.drop(df3.tail(1).index,inplace=True)"
      ],
      "execution_count": null,
      "outputs": []
    },
    {
      "cell_type": "code",
      "metadata": {
        "id": "SZjRnb0RuM46"
      },
      "source": [
        "df33 = pd.read_table(filepath_or_buffer=dict_paths[33], skiprows=10, nrows=100000)\n",
        "df33.columns=['ts',\n",
        "              'uid',\n",
        "              'id.orig_h',\n",
        "              'id.orig_p',\n",
        "              'id.resp_h',\n",
        "              'id.resp_p',\n",
        "              'proto',\n",
        "              'service',\n",
        "              'duration',\n",
        "              'orig_bytes',\n",
        "              'resp_bytes',\n",
        "              'conn_state',\n",
        "              'local_orig',\n",
        "              'local_resp',\n",
        "              'missed_bytes',\n",
        "              'history',\n",
        "              'orig_pkts',\n",
        "              'orig_ip_bytes',\n",
        "              'resp_pkts',\n",
        "              'resp_ip_bytes',\n",
        "              'label']\n",
        "df33.drop(df33.tail(1).index,inplace=True)"
      ],
      "execution_count": null,
      "outputs": []
    },
    {
      "cell_type": "code",
      "metadata": {
        "id": "nuCV6D_ouNrN"
      },
      "source": [
        "df34 = pd.read_table(filepath_or_buffer=dict_paths[34], skiprows=10, nrows=100000)\n",
        "df34.columns=['ts',\n",
        "              'uid',\n",
        "              'id.orig_h',\n",
        "              'id.orig_p',\n",
        "              'id.resp_h',\n",
        "              'id.resp_p',\n",
        "              'proto',\n",
        "              'service',\n",
        "              'duration',\n",
        "              'orig_bytes',\n",
        "              'resp_bytes',\n",
        "              'conn_state',\n",
        "              'local_orig',\n",
        "              'local_resp',\n",
        "              'missed_bytes',\n",
        "              'history',\n",
        "              'orig_pkts',\n",
        "              'orig_ip_bytes',\n",
        "              'resp_pkts',\n",
        "              'resp_ip_bytes',\n",
        "              'label']\n",
        "df34.drop(df34.tail(1).index,inplace=True)"
      ],
      "execution_count": null,
      "outputs": []
    },
    {
      "cell_type": "code",
      "metadata": {
        "id": "riZ08IBsuOn3"
      },
      "source": [
        "df35 = pd.read_table(filepath_or_buffer=dict_paths[35], skiprows=10, nrows=100000)\n",
        "df35.columns=['ts',\n",
        "              'uid',\n",
        "              'id.orig_h',\n",
        "              'id.orig_p',\n",
        "              'id.resp_h',\n",
        "              'id.resp_p',\n",
        "              'proto',\n",
        "              'service',\n",
        "              'duration',\n",
        "              'orig_bytes',\n",
        "              'resp_bytes',\n",
        "              'conn_state',\n",
        "              'local_orig',\n",
        "              'local_resp',\n",
        "              'missed_bytes',\n",
        "              'history',\n",
        "              'orig_pkts',\n",
        "              'orig_ip_bytes',\n",
        "              'resp_pkts',\n",
        "              'resp_ip_bytes',\n",
        "              'label']\n",
        "df35.drop(df35.tail(1).index,inplace=True)"
      ],
      "execution_count": null,
      "outputs": []
    },
    {
      "cell_type": "code",
      "metadata": {
        "id": "SmJMRMfguPd6"
      },
      "source": [
        "df36 = pd.read_table(filepath_or_buffer=dict_paths[36], skiprows=10, nrows=100000)\n",
        "df36.columns=['ts',\n",
        "              'uid',\n",
        "              'id.orig_h',\n",
        "              'id.orig_p',\n",
        "              'id.resp_h',\n",
        "              'id.resp_p',\n",
        "              'proto',\n",
        "              'service',\n",
        "              'duration',\n",
        "              'orig_bytes',\n",
        "              'resp_bytes',\n",
        "              'conn_state',\n",
        "              'local_orig',\n",
        "              'local_resp',\n",
        "              'missed_bytes',\n",
        "              'history',\n",
        "              'orig_pkts',\n",
        "              'orig_ip_bytes',\n",
        "              'resp_pkts',\n",
        "              'resp_ip_bytes',\n",
        "              'label']\n",
        "df36.drop(df36.tail(1).index,inplace=True)"
      ],
      "execution_count": null,
      "outputs": []
    },
    {
      "cell_type": "code",
      "metadata": {
        "id": "uFV9MeTduQUr"
      },
      "source": [
        "df39 = pd.read_table(filepath_or_buffer=dict_paths[39], skiprows=10, nrows=100000)\n",
        "df39.columns=['ts',\n",
        "              'uid',\n",
        "              'id.orig_h',\n",
        "              'id.orig_p',\n",
        "              'id.resp_h',\n",
        "              'id.resp_p',\n",
        "              'proto',\n",
        "              'service',\n",
        "              'duration',\n",
        "              'orig_bytes',\n",
        "              'resp_bytes',\n",
        "              'conn_state',\n",
        "              'local_orig',\n",
        "              'local_resp',\n",
        "              'missed_bytes',\n",
        "              'history',\n",
        "              'orig_pkts',\n",
        "              'orig_ip_bytes',\n",
        "              'resp_pkts',\n",
        "              'resp_ip_bytes',\n",
        "              'label']\n",
        "df39.drop(df39.tail(1).index,inplace=True)"
      ],
      "execution_count": null,
      "outputs": []
    },
    {
      "cell_type": "code",
      "metadata": {
        "id": "GRZLT8lDuRFM"
      },
      "source": [
        "df4 = pd.read_table(filepath_or_buffer=dict_paths[4], skiprows=10, nrows=100000)\n",
        "df4.columns=['ts',\n",
        "              'uid',\n",
        "              'id.orig_h',\n",
        "              'id.orig_p',\n",
        "              'id.resp_h',\n",
        "              'id.resp_p',\n",
        "              'proto',\n",
        "              'service',\n",
        "              'duration',\n",
        "              'orig_bytes',\n",
        "              'resp_bytes',\n",
        "              'conn_state',\n",
        "              'local_orig',\n",
        "              'local_resp',\n",
        "              'missed_bytes',\n",
        "              'history',\n",
        "              'orig_pkts',\n",
        "              'orig_ip_bytes',\n",
        "              'resp_pkts',\n",
        "              'resp_ip_bytes',\n",
        "              'label']\n",
        "df4.drop(df4.tail(1).index,inplace=True)"
      ],
      "execution_count": null,
      "outputs": []
    },
    {
      "cell_type": "code",
      "metadata": {
        "id": "RexCvHFtuR9l"
      },
      "source": [
        "df42 = pd.read_table(filepath_or_buffer=dict_paths[42], skiprows=10, nrows=100000)\n",
        "df42.columns=['ts',\n",
        "              'uid',\n",
        "              'id.orig_h',\n",
        "              'id.orig_p',\n",
        "              'id.resp_h',\n",
        "              'id.resp_p',\n",
        "              'proto',\n",
        "              'service',\n",
        "              'duration',\n",
        "              'orig_bytes',\n",
        "              'resp_bytes',\n",
        "              'conn_state',\n",
        "              'local_orig',\n",
        "              'local_resp',\n",
        "              'missed_bytes',\n",
        "              'history',\n",
        "              'orig_pkts',\n",
        "              'orig_ip_bytes',\n",
        "              'resp_pkts',\n",
        "              'resp_ip_bytes',\n",
        "              'label']\n",
        "df42.drop(df42.tail(1).index,inplace=True)"
      ],
      "execution_count": null,
      "outputs": []
    },
    {
      "cell_type": "code",
      "metadata": {
        "id": "fWWMSPmZuT1o"
      },
      "source": [
        "df44 = pd.read_table(filepath_or_buffer=dict_paths[44], skiprows=10, nrows=100000)\n",
        "df44.columns=['ts',\n",
        "              'uid',\n",
        "              'id.orig_h',\n",
        "              'id.orig_p',\n",
        "              'id.resp_h',\n",
        "              'id.resp_p',\n",
        "              'proto',\n",
        "              'service',\n",
        "              'duration',\n",
        "              'orig_bytes',\n",
        "              'resp_bytes',\n",
        "              'conn_state',\n",
        "              'local_orig',\n",
        "              'local_resp',\n",
        "              'missed_bytes',\n",
        "              'history',\n",
        "              'orig_pkts',\n",
        "              'orig_ip_bytes',\n",
        "              'resp_pkts',\n",
        "              'resp_ip_bytes',\n",
        "              'label']\n",
        "df44.drop(df44.tail(1).index,inplace=True)"
      ],
      "execution_count": null,
      "outputs": []
    },
    {
      "cell_type": "code",
      "metadata": {
        "id": "OgSaZYbDuUq8"
      },
      "source": [
        "df48= pd.read_table(filepath_or_buffer=dict_paths[48], skiprows=10, nrows=100000)\n",
        "df48.columns=['ts',\n",
        "              'uid',\n",
        "              'id.orig_h',\n",
        "              'id.orig_p',\n",
        "              'id.resp_h',\n",
        "              'id.resp_p',\n",
        "              'proto',\n",
        "              'service',\n",
        "              'duration',\n",
        "              'orig_bytes',\n",
        "              'resp_bytes',\n",
        "              'conn_state',\n",
        "              'local_orig',\n",
        "              'local_resp',\n",
        "              'missed_bytes',\n",
        "              'history',\n",
        "              'orig_pkts',\n",
        "              'orig_ip_bytes',\n",
        "              'resp_pkts',\n",
        "              'resp_ip_bytes',\n",
        "              'label']\n",
        "df48.drop(df48.tail(1).index,inplace=True)"
      ],
      "execution_count": null,
      "outputs": []
    },
    {
      "cell_type": "code",
      "metadata": {
        "id": "0xSWoqt7uVe8"
      },
      "source": [
        "df49 = pd.read_table(filepath_or_buffer=dict_paths[49], skiprows=10, nrows=100000)\n",
        "df49.columns=['ts',\n",
        "              'uid',\n",
        "              'id.orig_h',\n",
        "              'id.orig_p',\n",
        "              'id.resp_h',\n",
        "              'id.resp_p',\n",
        "              'proto',\n",
        "              'service',\n",
        "              'duration',\n",
        "              'orig_bytes',\n",
        "              'resp_bytes',\n",
        "              'conn_state',\n",
        "              'local_orig',\n",
        "              'local_resp',\n",
        "              'missed_bytes',\n",
        "              'history',\n",
        "              'orig_pkts',\n",
        "              'orig_ip_bytes',\n",
        "              'resp_pkts',\n",
        "              'resp_ip_bytes',\n",
        "              'label']\n",
        "df49.drop(df49.tail(1).index,inplace=True)"
      ],
      "execution_count": null,
      "outputs": []
    },
    {
      "cell_type": "code",
      "metadata": {
        "id": "8xcWRlTWuWTB"
      },
      "source": [
        "df5 = pd.read_table(filepath_or_buffer=dict_paths[5], skiprows=10, nrows=100000)\n",
        "df5.columns=['ts',\n",
        "              'uid',\n",
        "              'id.orig_h',\n",
        "              'id.orig_p',\n",
        "              'id.resp_h',\n",
        "              'id.resp_p',\n",
        "              'proto',\n",
        "              'service',\n",
        "              'duration',\n",
        "              'orig_bytes',\n",
        "              'resp_bytes',\n",
        "              'conn_state',\n",
        "              'local_orig',\n",
        "              'local_resp',\n",
        "              'missed_bytes',\n",
        "              'history',\n",
        "              'orig_pkts',\n",
        "              'orig_ip_bytes',\n",
        "              'resp_pkts',\n",
        "              'resp_ip_bytes',\n",
        "              'label']\n",
        "df5.drop(df5.tail(1).index,inplace=True)"
      ],
      "execution_count": null,
      "outputs": []
    },
    {
      "cell_type": "code",
      "metadata": {
        "id": "sBI26K_huX3A"
      },
      "source": [
        "df60 = pd.read_table(filepath_or_buffer=dict_paths[60], skiprows=10, nrows=100000)\n",
        "df60.columns=['ts',\n",
        "              'uid',\n",
        "              'id.orig_h',\n",
        "              'id.orig_p',\n",
        "              'id.resp_h',\n",
        "              'id.resp_p',\n",
        "              'proto',\n",
        "              'service',\n",
        "              'duration',\n",
        "              'orig_bytes',\n",
        "              'resp_bytes',\n",
        "              'conn_state',\n",
        "              'local_orig',\n",
        "              'local_resp',\n",
        "              'missed_bytes',\n",
        "              'history',\n",
        "              'orig_pkts',\n",
        "              'orig_ip_bytes',\n",
        "              'resp_pkts',\n",
        "              'resp_ip_bytes',\n",
        "              'label']\n",
        "df60.drop(df60.tail(1).index,inplace=True)"
      ],
      "execution_count": null,
      "outputs": []
    },
    {
      "cell_type": "code",
      "metadata": {
        "id": "CKG7r99ZuY1J"
      },
      "source": [
        "df7 = pd.read_table(filepath_or_buffer=dict_paths[7], skiprows=10, nrows=100000)\n",
        "df7.columns=['ts',\n",
        "              'uid',\n",
        "              'id.orig_h',\n",
        "              'id.orig_p',\n",
        "              'id.resp_h',\n",
        "              'id.resp_p',\n",
        "              'proto',\n",
        "              'service',\n",
        "              'duration',\n",
        "              'orig_bytes',\n",
        "              'resp_bytes',\n",
        "              'conn_state',\n",
        "              'local_orig',\n",
        "              'local_resp',\n",
        "              'missed_bytes',\n",
        "              'history',\n",
        "              'orig_pkts',\n",
        "              'orig_ip_bytes',\n",
        "              'resp_pkts',\n",
        "              'resp_ip_bytes',\n",
        "              'label']\n",
        "df7.drop(df7.tail(1).index,inplace=True)"
      ],
      "execution_count": null,
      "outputs": []
    },
    {
      "cell_type": "code",
      "metadata": {
        "id": "jsMW2ZD9uZja"
      },
      "source": [
        "df71 = pd.read_table(filepath_or_buffer=dict_paths[71], skiprows=10, nrows=100000)\n",
        "df71.columns=['ts',\n",
        "              'uid',\n",
        "              'id.orig_h',\n",
        "              'id.orig_p',\n",
        "              'id.resp_h',\n",
        "              'id.resp_p',\n",
        "              'proto',\n",
        "              'service',\n",
        "              'duration',\n",
        "              'orig_bytes',\n",
        "              'resp_bytes',\n",
        "              'conn_state',\n",
        "              'local_orig',\n",
        "              'local_resp',\n",
        "              'missed_bytes',\n",
        "              'history',\n",
        "              'orig_pkts',\n",
        "              'orig_ip_bytes',\n",
        "              'resp_pkts',\n",
        "              'resp_ip_bytes',\n",
        "              'label']\n",
        "df71.drop(df71.tail(1).index,inplace=True)"
      ],
      "execution_count": null,
      "outputs": []
    },
    {
      "cell_type": "code",
      "metadata": {
        "id": "TdMSpoaByhfq"
      },
      "source": [
        "df8 = pd.read_table(filepath_or_buffer=dict_paths[8], skiprows=10, nrows=100000)\n",
        "df8.columns=['ts',\n",
        "              'uid',\n",
        "              'id.orig_h',\n",
        "              'id.orig_p',\n",
        "              'id.resp_h',\n",
        "              'id.resp_p',\n",
        "              'proto',\n",
        "              'service',\n",
        "              'duration',\n",
        "              'orig_bytes',\n",
        "              'resp_bytes',\n",
        "              'conn_state',\n",
        "              'local_orig',\n",
        "              'local_resp',\n",
        "              'missed_bytes',\n",
        "              'history',\n",
        "              'orig_pkts',\n",
        "              'orig_ip_bytes',\n",
        "              'resp_pkts',\n",
        "              'resp_ip_bytes',\n",
        "              'label']\n",
        "df8.drop(df8.tail(1).index,inplace=True)"
      ],
      "execution_count": null,
      "outputs": []
    },
    {
      "cell_type": "code",
      "metadata": {
        "id": "AbJ6b43Bylfd"
      },
      "source": [
        "df9 = pd.read_table(filepath_or_buffer=dict_paths[9], skiprows=10, nrows=100000)\n",
        "df9.columns=['ts',\n",
        "              'uid',\n",
        "              'id.orig_h',\n",
        "              'id.orig_p',\n",
        "              'id.resp_h',\n",
        "              'id.resp_p',\n",
        "              'proto',\n",
        "              'service',\n",
        "              'duration',\n",
        "              'orig_bytes',\n",
        "              'resp_bytes',\n",
        "              'conn_state',\n",
        "              'local_orig',\n",
        "              'local_resp',\n",
        "              'missed_bytes',\n",
        "              'history',\n",
        "              'orig_pkts',\n",
        "              'orig_ip_bytes',\n",
        "              'resp_pkts',\n",
        "              'resp_ip_bytes',\n",
        "              'label']\n",
        "df9.drop(df9.tail(1).index,inplace=True)"
      ],
      "execution_count": null,
      "outputs": []
    },
    {
      "cell_type": "code",
      "metadata": {
        "id": "jM6hTEA1y4N9"
      },
      "source": [
        "frames=[df1, df17, df20, df21, df3, df33, df34, df35, df36, df39, df42, df44, df48, df49, df60, df7, df8, df9]"
      ],
      "execution_count": null,
      "outputs": []
    },
    {
      "cell_type": "code",
      "metadata": {
        "id": "hHzU-7FHzC8Y"
      },
      "source": [
        "df_c=pd.concat(frames)"
      ],
      "execution_count": null,
      "outputs": []
    },
    {
      "cell_type": "code",
      "metadata": {
        "colab": {
          "base_uri": "https://localhost:8080/",
          "height": 571
        },
        "id": "kIt2CCKXzHiw",
        "outputId": "68014411-5b21-4a9a-d11b-7dcbdb3ef79d"
      },
      "source": [
        "df_c"
      ],
      "execution_count": null,
      "outputs": [
        {
          "data": {
            "text/html": [
              "<div>\n",
              "<style scoped>\n",
              "    .dataframe tbody tr th:only-of-type {\n",
              "        vertical-align: middle;\n",
              "    }\n",
              "\n",
              "    .dataframe tbody tr th {\n",
              "        vertical-align: top;\n",
              "    }\n",
              "\n",
              "    .dataframe thead th {\n",
              "        text-align: right;\n",
              "    }\n",
              "</style>\n",
              "<table border=\"1\" class=\"dataframe\">\n",
              "  <thead>\n",
              "    <tr style=\"text-align: right;\">\n",
              "      <th></th>\n",
              "      <th>ts</th>\n",
              "      <th>uid</th>\n",
              "      <th>id.orig_h</th>\n",
              "      <th>id.orig_p</th>\n",
              "      <th>id.resp_h</th>\n",
              "      <th>id.resp_p</th>\n",
              "      <th>proto</th>\n",
              "      <th>service</th>\n",
              "      <th>duration</th>\n",
              "      <th>orig_bytes</th>\n",
              "      <th>resp_bytes</th>\n",
              "      <th>conn_state</th>\n",
              "      <th>local_orig</th>\n",
              "      <th>local_resp</th>\n",
              "      <th>missed_bytes</th>\n",
              "      <th>history</th>\n",
              "      <th>orig_pkts</th>\n",
              "      <th>orig_ip_bytes</th>\n",
              "      <th>resp_pkts</th>\n",
              "      <th>resp_ip_bytes</th>\n",
              "      <th>label</th>\n",
              "    </tr>\n",
              "  </thead>\n",
              "  <tbody>\n",
              "    <tr>\n",
              "      <th>0</th>\n",
              "      <td>1.52588e+09</td>\n",
              "      <td>CDe43c1PtgynajGI6</td>\n",
              "      <td>192.168.100.103</td>\n",
              "      <td>60905.0</td>\n",
              "      <td>131.174.215.147</td>\n",
              "      <td>23.0</td>\n",
              "      <td>tcp</td>\n",
              "      <td>-</td>\n",
              "      <td>2.998796</td>\n",
              "      <td>0</td>\n",
              "      <td>0</td>\n",
              "      <td>S0</td>\n",
              "      <td>-</td>\n",
              "      <td>-</td>\n",
              "      <td>0.0</td>\n",
              "      <td>S</td>\n",
              "      <td>3.0</td>\n",
              "      <td>180.0</td>\n",
              "      <td>0.0</td>\n",
              "      <td>0.0</td>\n",
              "      <td>(empty)   Malicious   PartOfAHorizontalPortScan</td>\n",
              "    </tr>\n",
              "    <tr>\n",
              "      <th>1</th>\n",
              "      <td>1.52588e+09</td>\n",
              "      <td>CJaDcG3MZzvf1YVYI4</td>\n",
              "      <td>192.168.100.103</td>\n",
              "      <td>44301.0</td>\n",
              "      <td>91.42.47.63</td>\n",
              "      <td>23.0</td>\n",
              "      <td>tcp</td>\n",
              "      <td>-</td>\n",
              "      <td>-</td>\n",
              "      <td>-</td>\n",
              "      <td>-</td>\n",
              "      <td>S0</td>\n",
              "      <td>-</td>\n",
              "      <td>-</td>\n",
              "      <td>0.0</td>\n",
              "      <td>S</td>\n",
              "      <td>1.0</td>\n",
              "      <td>60.0</td>\n",
              "      <td>0.0</td>\n",
              "      <td>0.0</td>\n",
              "      <td>(empty)   Malicious   PartOfAHorizontalPortScan</td>\n",
              "    </tr>\n",
              "    <tr>\n",
              "      <th>2</th>\n",
              "      <td>1.52588e+09</td>\n",
              "      <td>CMBrup3BLXivSp4Avc</td>\n",
              "      <td>192.168.100.103</td>\n",
              "      <td>50244.0</td>\n",
              "      <td>120.210.108.200</td>\n",
              "      <td>23.0</td>\n",
              "      <td>tcp</td>\n",
              "      <td>-</td>\n",
              "      <td>-</td>\n",
              "      <td>-</td>\n",
              "      <td>-</td>\n",
              "      <td>S0</td>\n",
              "      <td>-</td>\n",
              "      <td>-</td>\n",
              "      <td>0.0</td>\n",
              "      <td>S</td>\n",
              "      <td>1.0</td>\n",
              "      <td>60.0</td>\n",
              "      <td>0.0</td>\n",
              "      <td>0.0</td>\n",
              "      <td>(empty)   Malicious   PartOfAHorizontalPortScan</td>\n",
              "    </tr>\n",
              "    <tr>\n",
              "      <th>3</th>\n",
              "      <td>1.52588e+09</td>\n",
              "      <td>CfHl9r3XMYtDQRrHnh</td>\n",
              "      <td>192.168.100.103</td>\n",
              "      <td>34243.0</td>\n",
              "      <td>147.7.65.203</td>\n",
              "      <td>49560.0</td>\n",
              "      <td>tcp</td>\n",
              "      <td>-</td>\n",
              "      <td>2.998804</td>\n",
              "      <td>0</td>\n",
              "      <td>0</td>\n",
              "      <td>S0</td>\n",
              "      <td>-</td>\n",
              "      <td>-</td>\n",
              "      <td>0.0</td>\n",
              "      <td>S</td>\n",
              "      <td>3.0</td>\n",
              "      <td>180.0</td>\n",
              "      <td>0.0</td>\n",
              "      <td>0.0</td>\n",
              "      <td>(empty)   Benign   -</td>\n",
              "    </tr>\n",
              "    <tr>\n",
              "      <th>4</th>\n",
              "      <td>1.52588e+09</td>\n",
              "      <td>C7USrA15nFVkniMqC5</td>\n",
              "      <td>192.168.100.103</td>\n",
              "      <td>34840.0</td>\n",
              "      <td>145.164.35.6</td>\n",
              "      <td>21288.0</td>\n",
              "      <td>tcp</td>\n",
              "      <td>-</td>\n",
              "      <td>-</td>\n",
              "      <td>-</td>\n",
              "      <td>-</td>\n",
              "      <td>S0</td>\n",
              "      <td>-</td>\n",
              "      <td>-</td>\n",
              "      <td>0.0</td>\n",
              "      <td>S</td>\n",
              "      <td>1.0</td>\n",
              "      <td>60.0</td>\n",
              "      <td>0.0</td>\n",
              "      <td>0.0</td>\n",
              "      <td>(empty)   Benign   -</td>\n",
              "    </tr>\n",
              "    <tr>\n",
              "      <th>...</th>\n",
              "      <td>...</td>\n",
              "      <td>...</td>\n",
              "      <td>...</td>\n",
              "      <td>...</td>\n",
              "      <td>...</td>\n",
              "      <td>...</td>\n",
              "      <td>...</td>\n",
              "      <td>...</td>\n",
              "      <td>...</td>\n",
              "      <td>...</td>\n",
              "      <td>...</td>\n",
              "      <td>...</td>\n",
              "      <td>...</td>\n",
              "      <td>...</td>\n",
              "      <td>...</td>\n",
              "      <td>...</td>\n",
              "      <td>...</td>\n",
              "      <td>...</td>\n",
              "      <td>...</td>\n",
              "      <td>...</td>\n",
              "      <td>...</td>\n",
              "    </tr>\n",
              "    <tr>\n",
              "      <th>99994</th>\n",
              "      <td>1.53253e+09</td>\n",
              "      <td>CMeH6R2aua5c5Dd65a</td>\n",
              "      <td>192.168.100.111</td>\n",
              "      <td>41762.0</td>\n",
              "      <td>221.182.209.127</td>\n",
              "      <td>23.0</td>\n",
              "      <td>tcp</td>\n",
              "      <td>-</td>\n",
              "      <td>-</td>\n",
              "      <td>-</td>\n",
              "      <td>-</td>\n",
              "      <td>S0</td>\n",
              "      <td>-</td>\n",
              "      <td>-</td>\n",
              "      <td>0.0</td>\n",
              "      <td>S</td>\n",
              "      <td>1.0</td>\n",
              "      <td>40.0</td>\n",
              "      <td>0.0</td>\n",
              "      <td>0.0</td>\n",
              "      <td>(empty)   Malicious   PartOfAHorizontalPortScan</td>\n",
              "    </tr>\n",
              "    <tr>\n",
              "      <th>99995</th>\n",
              "      <td>1.53253e+09</td>\n",
              "      <td>CvqGx33hsXDpDVXa1i</td>\n",
              "      <td>192.168.100.111</td>\n",
              "      <td>58758.0</td>\n",
              "      <td>208.50.139.48</td>\n",
              "      <td>23.0</td>\n",
              "      <td>tcp</td>\n",
              "      <td>-</td>\n",
              "      <td>-</td>\n",
              "      <td>-</td>\n",
              "      <td>-</td>\n",
              "      <td>S0</td>\n",
              "      <td>-</td>\n",
              "      <td>-</td>\n",
              "      <td>0.0</td>\n",
              "      <td>S</td>\n",
              "      <td>1.0</td>\n",
              "      <td>40.0</td>\n",
              "      <td>0.0</td>\n",
              "      <td>0.0</td>\n",
              "      <td>(empty)   Malicious   PartOfAHorizontalPortScan</td>\n",
              "    </tr>\n",
              "    <tr>\n",
              "      <th>99996</th>\n",
              "      <td>1.53253e+09</td>\n",
              "      <td>CC83RoUd9RLFuTL81</td>\n",
              "      <td>192.168.100.111</td>\n",
              "      <td>40400.0</td>\n",
              "      <td>40.95.136.51</td>\n",
              "      <td>23.0</td>\n",
              "      <td>tcp</td>\n",
              "      <td>-</td>\n",
              "      <td>-</td>\n",
              "      <td>-</td>\n",
              "      <td>-</td>\n",
              "      <td>S0</td>\n",
              "      <td>-</td>\n",
              "      <td>-</td>\n",
              "      <td>0.0</td>\n",
              "      <td>S</td>\n",
              "      <td>1.0</td>\n",
              "      <td>40.0</td>\n",
              "      <td>0.0</td>\n",
              "      <td>0.0</td>\n",
              "      <td>(empty)   Malicious   PartOfAHorizontalPortScan</td>\n",
              "    </tr>\n",
              "    <tr>\n",
              "      <th>99997</th>\n",
              "      <td>1.53253e+09</td>\n",
              "      <td>C4ISld2cuSukEEuQtk</td>\n",
              "      <td>192.168.100.111</td>\n",
              "      <td>27117.0</td>\n",
              "      <td>122.37.183.236</td>\n",
              "      <td>23.0</td>\n",
              "      <td>tcp</td>\n",
              "      <td>-</td>\n",
              "      <td>-</td>\n",
              "      <td>-</td>\n",
              "      <td>-</td>\n",
              "      <td>S0</td>\n",
              "      <td>-</td>\n",
              "      <td>-</td>\n",
              "      <td>0.0</td>\n",
              "      <td>S</td>\n",
              "      <td>1.0</td>\n",
              "      <td>40.0</td>\n",
              "      <td>0.0</td>\n",
              "      <td>0.0</td>\n",
              "      <td>(empty)   Malicious   PartOfAHorizontalPortScan</td>\n",
              "    </tr>\n",
              "    <tr>\n",
              "      <th>99998</th>\n",
              "      <td>1.53253e+09</td>\n",
              "      <td>C4U1azYmDx32faVY7</td>\n",
              "      <td>192.168.100.111</td>\n",
              "      <td>23227.0</td>\n",
              "      <td>189.62.234.179</td>\n",
              "      <td>23.0</td>\n",
              "      <td>tcp</td>\n",
              "      <td>-</td>\n",
              "      <td>-</td>\n",
              "      <td>-</td>\n",
              "      <td>-</td>\n",
              "      <td>S0</td>\n",
              "      <td>-</td>\n",
              "      <td>-</td>\n",
              "      <td>0.0</td>\n",
              "      <td>S</td>\n",
              "      <td>1.0</td>\n",
              "      <td>40.0</td>\n",
              "      <td>0.0</td>\n",
              "      <td>0.0</td>\n",
              "      <td>(empty)   Malicious   PartOfAHorizontalPortScan</td>\n",
              "    </tr>\n",
              "  </tbody>\n",
              "</table>\n",
              "<p>1244676 rows × 21 columns</p>\n",
              "</div>"
            ],
            "text/plain": [
              "                ts  ...                                            label\n",
              "0      1.52588e+09  ...  (empty)   Malicious   PartOfAHorizontalPortScan\n",
              "1      1.52588e+09  ...  (empty)   Malicious   PartOfAHorizontalPortScan\n",
              "2      1.52588e+09  ...  (empty)   Malicious   PartOfAHorizontalPortScan\n",
              "3      1.52588e+09  ...                             (empty)   Benign   -\n",
              "4      1.52588e+09  ...                             (empty)   Benign   -\n",
              "...            ...  ...                                              ...\n",
              "99994  1.53253e+09  ...  (empty)   Malicious   PartOfAHorizontalPortScan\n",
              "99995  1.53253e+09  ...  (empty)   Malicious   PartOfAHorizontalPortScan\n",
              "99996  1.53253e+09  ...  (empty)   Malicious   PartOfAHorizontalPortScan\n",
              "99997  1.53253e+09  ...  (empty)   Malicious   PartOfAHorizontalPortScan\n",
              "99998  1.53253e+09  ...  (empty)   Malicious   PartOfAHorizontalPortScan\n",
              "\n",
              "[1244676 rows x 21 columns]"
            ]
          },
          "execution_count": 29,
          "metadata": {},
          "output_type": "execute_result"
        }
      ]
    },
    {
      "cell_type": "code",
      "metadata": {
        "colab": {
          "base_uri": "https://localhost:8080/"
        },
        "id": "iAUoqr6azI_z",
        "outputId": "36f0d932-1b14-47f0-9f70-bd8a973b50fc"
      },
      "source": [
        "df_c['id.orig_h'].count()"
      ],
      "execution_count": null,
      "outputs": [
        {
          "data": {
            "text/plain": [
              "1244676"
            ]
          },
          "execution_count": 30,
          "metadata": {},
          "output_type": "execute_result"
        }
      ]
    },
    {
      "cell_type": "code",
      "metadata": {
        "colab": {
          "base_uri": "https://localhost:8080/"
        },
        "id": "6HPq_f_5zWNZ",
        "outputId": "0f7ab554-7196-43bf-92d7-5be49287d974"
      },
      "source": [
        "df_c['id.orig_h'].unique()"
      ],
      "execution_count": null,
      "outputs": [
        {
          "data": {
            "text/plain": [
              "array(['192.168.100.103', '192.168.100.1', '122.152.1.198', ...,\n",
              "       '185.79.108.251', '24.115.72.41', '200.170.196.189'], dtype=object)"
            ]
          },
          "execution_count": 31,
          "metadata": {},
          "output_type": "execute_result"
        }
      ]
    },
    {
      "cell_type": "code",
      "metadata": {
        "id": "Lnd0QGlsh46X"
      },
      "source": [
        "df_k=df_c.copy()"
      ],
      "execution_count": null,
      "outputs": []
    },
    {
      "cell_type": "code",
      "metadata": {
        "id": "6lYwKJJ7i3Ny"
      },
      "source": [
        "df_k[\"zip\"]=\"\"\n",
        "df_k[\"country\"]=\"\"\n",
        "df_k[\"city\"]=\"\"\n",
        "df_k[\"continent\"]=\"\""
      ],
      "execution_count": null,
      "outputs": []
    },
    {
      "cell_type": "code",
      "metadata": {
        "colab": {
          "background_save": true
        },
        "id": "eO707LSYjOM_"
      },
      "source": [
        "for i in range(1,1244676):\n",
        "  if(df_k.iloc[i,2].split('.')[0]!='192'):\n",
        "    response = requests.get(\"http://api.ipstack.com/\"+df_k.iloc[i,2]+\"?access_key=fe24abfcc8a6c600bc6171a0a1d2ea23\")\n",
        "    print(\"************\",i,\"*****************\")\n",
        "    print(response.json())\n",
        "    df_k.iloc[i,22]=response.json()[\"country_name\"]\n",
        "    df_k.iloc[i,23]=response.json()[\"city\"]\n",
        "    df_k.iloc[i,24]=response.json()[\"continent_name\"]\n",
        "    df_k.iloc[i,21]=response.json()[\"zip\"]"
      ],
      "execution_count": null,
      "outputs": []
    },
    {
      "cell_type": "code",
      "metadata": {
        "colab": {
          "background_save": true
        },
        "id": "0wTsJAwkKBSP",
        "outputId": "83675db1-d80f-4a14-d66e-5fa383c60a33"
      },
      "source": [
        "df_k.shape"
      ],
      "execution_count": null,
      "outputs": [
        {
          "data": {
            "text/plain": [
              "(1244676, 25)"
            ]
          },
          "execution_count": null,
          "metadata": {},
          "output_type": "execute_result"
        }
      ]
    },
    {
      "cell_type": "code",
      "metadata": {
        "colab": {
          "background_save": true
        },
        "id": "Bh3DQuFUu7PC",
        "outputId": "7d062f88-a07a-4032-a262-63c0fbd5d60b"
      },
      "source": [
        "df_k['country'].unique()"
      ],
      "execution_count": null,
      "outputs": [
        {
          "data": {
            "text/plain": [
              "array(['', 'Japan', 'Croatia', 'China', 'South Korea', 'United States',\n",
              "       'Poland', 'Hungary', 'Taiwan', 'Brazil', 'Germany', 'Italy',\n",
              "       'South Africa', 'Spain', 'Colombia', 'Australia', 'Belgium',\n",
              "       'United Kingdom', 'Austria', 'Iran', 'France', 'Malaysia',\n",
              "       'Estonia', 'Kuwait', 'Russia', 'Canada', 'Ukraine', 'Uruguay',\n",
              "       'Indonesia', 'Czechia', 'Ireland', 'Vietnam',\n",
              "       'Hong Kong SAR China', 'Philippines', 'Israel', 'Argentina',\n",
              "       'Chile', 'Norway', 'Serbia', 'Denmark', 'Morocco', 'Bulgaria',\n",
              "       'Thailand', 'India', 'Saudi Arabia', 'Romania', 'Singapore',\n",
              "       'Egypt', 'Georgia', 'Macau SAR China', 'Sweden', 'Latvia',\n",
              "       'Netherlands', 'Switzerland', 'Belarus', 'Mexico', 'Slovenia',\n",
              "       'Senegal', 'Angola', 'Paraguay', 'Côte d’Ivoire', 'Honduras',\n",
              "       'Uganda', 'New Zealand', 'Zambia', 'Kazakhstan', None,\n",
              "       'Puerto Rico', 'Turkey', 'Slovakia', 'Greece', 'Luxembourg',\n",
              "       'Portugal', 'Iceland', 'Venezuela', 'Finland', 'Tanzania',\n",
              "       'Ecuador', 'Myanmar (Burma)', 'French Polynesia', 'Azerbaijan',\n",
              "       'Pakistan', 'Algeria', 'Tunisia', 'Trinidad & Tobago', 'Peru',\n",
              "       'Iraq', 'Cyprus', 'Bangladesh', 'Macedonia',\n",
              "       'United Arab Emirates', 'Papua New Guinea', 'Congo - Kinshasa',\n",
              "       'Rwanda', 'Anguilla', 'Mozambique', 'Bolivia', 'Togo', 'Zimbabwe',\n",
              "       'Lithuania', 'Armenia', 'Burundi', 'Dominica', 'Liechtenstein',\n",
              "       'Costa Rica', 'Moldova', 'Guam', 'Afghanistan', 'St. Lucia',\n",
              "       'Montenegro', 'Qatar', 'Namibia', 'Ghana', 'Nigeria', 'Kenya',\n",
              "       'Mauritius', 'Gambia', 'Burkina Faso', 'Suriname', 'Malawi',\n",
              "       'Bermuda'], dtype=object)"
            ]
          },
          "execution_count": null,
          "metadata": {},
          "output_type": "execute_result"
        }
      ]
    },
    {
      "cell_type": "code",
      "metadata": {
        "colab": {
          "background_save": true
        },
        "id": "tgmbG20Xs4N2"
      },
      "source": [
        "df_k.to_pickle(\"/content/drive/MyDrive/Pickles/df_k500.pkl\")\n"
      ],
      "execution_count": null,
      "outputs": []
    },
    {
      "cell_type": "code",
      "metadata": {
        "colab": {
          "background_save": true
        },
        "id": "OR0956OwEnWb"
      },
      "source": [
        "df_k.to_csv(\"/content/drive/MyDrive/Pickles/df_500.csv\")"
      ],
      "execution_count": null,
      "outputs": []
    },
    {
      "cell_type": "code",
      "metadata": {
        "colab": {
          "background_save": true
        },
        "id": "A7ty-mO6v5XD"
      },
      "source": [
        "!apt-get install openjdk-8-jdk-headless -qq > /dev/null\n",
        "!wget -q https://downloads.apache.org/spark/spark-3.1.2/spark-3.1.2-bin-hadoop2.7.tgz\n",
        "!tar xf spark-3.1.2-bin-hadoop2.7.tgz\n",
        "!pip install -q findspark"
      ],
      "execution_count": null,
      "outputs": []
    },
    {
      "cell_type": "code",
      "metadata": {
        "id": "_hYRWLDpwuKs"
      },
      "source": [
        "import os\n",
        "os.environ[\"JAVA_HOME\"] = \"/usr/lib/jvm/java-8-openjdk-amd64\"\n",
        "os.environ[\"SPARK_HOME\"] = \"/content/spark-3.1.2-bin-hadoop2.7\"\n",
        "\n",
        "import findspark\n",
        "findspark.init()\n",
        "from pyspark.sql import SparkSession\n",
        "sc = SparkSession.builder.master(\"local[*]\").getOrCreate()"
      ],
      "execution_count": null,
      "outputs": []
    },
    {
      "cell_type": "code",
      "metadata": {
        "id": "ZBj0P0PIwxUI"
      },
      "source": [
        "dff = sc.read.csv(\"/content/drive/MyDrive/Pickles/df_500.csv\",inferSchema=True).toDF(\"sno\",\n",
        "    \"ts\", \"uid\", \"id.orig_h\", \"id.orig_p\", \"id.resp_h\",\n",
        "    \"id.resp_p\", \"proto\", \"service\", \"duration\",\n",
        "    \"orig_bytes\", \"resp_bytes\", \"conn_state\", \"local_orig\",\n",
        "    \"local_resp\", \"missed_bytes\", \"history\", \"orig_pkts\",\n",
        "    \"orig_ip_bytes\", \"resp_pkts\", \"resp_ip_bytes\",\n",
        "    \"label\", \"zip\", \"country\", \"city\",\"continent\")"
      ],
      "execution_count": null,
      "outputs": []
    },
    {
      "cell_type": "code",
      "metadata": {
        "id": "W_jGfZBJFoXp"
      },
      "source": [
        "df_k.count()"
      ],
      "execution_count": null,
      "outputs": []
    },
    {
      "cell_type": "code",
      "metadata": {
        "colab": {
          "background_save": true
        },
        "id": "luDnMG7KVZmA"
      },
      "source": [
        "def convert(line):\n",
        "  if(line.iloc[i,2].split('.')[0]!='192'):\n",
        "    response = requests.get(\"http://api.ipstack.com/\"+df_k.iloc[i,2]+\"?access_key=fe24abfcc8a6c600bc6171a0a1d2ea23\")\n",
        "    print(\"************\",i,\"*****************\")\n",
        "    print(response.json())\n",
        "    df_k.iloc[i,22]=response.json()[\"country_name\"]\n",
        "    df_k.iloc[i,23]=response.json()[\"city\"]\n",
        "    df_k.iloc[i,24]=response.json()[\"continent_name\"]\n",
        "    df_k.iloc[i,21]=response.json()[\"zip\"]"
      ],
      "execution_count": null,
      "outputs": []
    },
    {
      "cell_type": "code",
      "metadata": {
        "id": "J-XdincBq1XC"
      },
      "source": [
        "dff3=dff.rdd.map(lambda x: convert(x)).collect()\n",
        "df_k=dff3.to_pandas();"
      ],
      "execution_count": null,
      "outputs": []
    },
    {
      "cell_type": "code",
      "metadata": {
        "id": "SSv8lKymVuWl"
      },
      "source": [
        "df_k=pd.read_pickle(\"/content/drive/MyDrive/Pickles/df_k500.pkl\")"
      ],
      "execution_count": null,
      "outputs": []
    },
    {
      "cell_type": "code",
      "metadata": {
        "id": "W1S4FGTEcoD0",
        "colab": {
          "base_uri": "https://localhost:8080/"
        },
        "outputId": "3220e300-30af-45b6-e76e-e3b820d0a1e8"
      },
      "source": [
        "df_k['id.orig_h'].dropna()"
      ],
      "execution_count": null,
      "outputs": [
        {
          "output_type": "execute_result",
          "data": {
            "text/plain": [
              "0        192.168.100.103\n",
              "1        192.168.100.103\n",
              "2        192.168.100.103\n",
              "3        192.168.100.103\n",
              "4        192.168.100.103\n",
              "              ...       \n",
              "99994    192.168.100.111\n",
              "99995    192.168.100.111\n",
              "99996    192.168.100.111\n",
              "99997    192.168.100.111\n",
              "99998    192.168.100.111\n",
              "Name: id.orig_h, Length: 1244676, dtype: object"
            ]
          },
          "metadata": {},
          "execution_count": 7
        }
      ]
    },
    {
      "cell_type": "code",
      "metadata": {
        "id": "_XXRBS97dH0s"
      },
      "source": [
        "df_z=df_k['country']!=\"None\""
      ],
      "execution_count": null,
      "outputs": []
    },
    {
      "cell_type": "code",
      "metadata": {
        "id": "GQ7rN0idUVBI",
        "colab": {
          "base_uri": "https://localhost:8080/",
          "height": 35
        },
        "outputId": "8cd6e04d-8d17-4e78-ff2a-44d3491c7c33"
      },
      "source": [
        "df_k.iloc[148655,2]"
      ],
      "execution_count": null,
      "outputs": [
        {
          "output_type": "execute_result",
          "data": {
            "application/vnd.google.colaboratory.intrinsic+json": {
              "type": "string"
            },
            "text/plain": [
              "'210.186.12.233'"
            ]
          },
          "metadata": {},
          "execution_count": 10
        }
      ]
    },
    {
      "cell_type": "code",
      "metadata": {
        "id": "RqqVJ481_CCt"
      },
      "source": [
        " response = requests.get(\"http://api.ipstack.com/\"+df_k.iloc[148655,2]+\"?access_key=bc203d8adb7ecaa8651b680458829e54\")\n",
        "    "
      ],
      "execution_count": null,
      "outputs": []
    },
    {
      "cell_type": "code",
      "metadata": {
        "id": "brJ4bKM2_H4Y",
        "colab": {
          "base_uri": "https://localhost:8080/"
        },
        "outputId": "65cb915d-f382-4429-c6e1-ad15eeecd480"
      },
      "source": [
        "print(response.json())\n"
      ],
      "execution_count": null,
      "outputs": [
        {
          "output_type": "stream",
          "name": "stdout",
          "text": [
            "{'ip': '210.186.12.233', 'type': 'ipv4', 'continent_code': 'AS', 'continent_name': 'Asia', 'country_code': 'MY', 'country_name': 'Malaysia', 'region_code': '14', 'region_name': 'Kuala Lumpur', 'city': 'Kuala Lumpur', 'zip': '50000', 'latitude': 3.1389999389648438, 'longitude': 101.68689727783203, 'location': {'geoname_id': 1735161, 'capital': 'Kuala Lumpur', 'languages': [{'code': 'ms', 'name': 'Malay', 'native': 'Bahasa Melayu'}], 'country_flag': 'https://assets.ipstack.com/flags/my.svg', 'country_flag_emoji': '🇲🇾', 'country_flag_emoji_unicode': 'U+1F1F2 U+1F1FE', 'calling_code': '60', 'is_eu': False}}\n"
          ]
        }
      ]
    },
    {
      "cell_type": "code",
      "metadata": {
        "id": "3CI5YITnOs_J"
      },
      "source": [
        "df_o=df_k[df_k['country']!='']"
      ],
      "execution_count": null,
      "outputs": []
    },
    {
      "cell_type": "code",
      "metadata": {
        "id": "lk5TuP-HQxA8",
        "colab": {
          "base_uri": "https://localhost:8080/"
        },
        "outputId": "27801bc2-467f-44b6-d2e5-0e9b196df0ba"
      },
      "source": [
        "df_o.shape"
      ],
      "execution_count": null,
      "outputs": [
        {
          "output_type": "execute_result",
          "data": {
            "text/plain": [
              "(3539, 25)"
            ]
          },
          "metadata": {},
          "execution_count": 14
        }
      ]
    },
    {
      "cell_type": "code",
      "metadata": {
        "id": "00n2Um0tQzrm"
      },
      "source": [
        "df_l=df_o[df_o['country'].notna()]"
      ],
      "execution_count": null,
      "outputs": []
    },
    {
      "cell_type": "code",
      "metadata": {
        "id": "WMW2XW7lQ8ri",
        "colab": {
          "base_uri": "https://localhost:8080/"
        },
        "outputId": "9d523392-8262-4ef5-b604-f2fc8b6ec1c2"
      },
      "source": [
        "df_l.shape"
      ],
      "execution_count": null,
      "outputs": [
        {
          "output_type": "execute_result",
          "data": {
            "text/plain": [
              "(3532, 25)"
            ]
          },
          "metadata": {},
          "execution_count": 16
        }
      ]
    },
    {
      "cell_type": "code",
      "metadata": {
        "id": "Vc_Hq4FoMOm8"
      },
      "source": [
        "z=df_l['country']"
      ],
      "execution_count": null,
      "outputs": []
    },
    {
      "cell_type": "code",
      "metadata": {
        "id": "XzVAHzIgNmHT"
      },
      "source": [
        "from collections import Counter"
      ],
      "execution_count": null,
      "outputs": []
    },
    {
      "cell_type": "code",
      "metadata": {
        "id": "_eyQjBtxRchV"
      },
      "source": [
        "u=Counter(z)"
      ],
      "execution_count": null,
      "outputs": []
    },
    {
      "cell_type": "code",
      "metadata": {
        "id": "SspPaTgoOcPm",
        "colab": {
          "base_uri": "https://localhost:8080/",
          "height": 779
        },
        "outputId": "f27b93ee-4c0e-435d-c7cf-e42c78c49566"
      },
      "source": [
        "df_l"
      ],
      "execution_count": null,
      "outputs": [
        {
          "output_type": "execute_result",
          "data": {
            "text/html": [
              "<div>\n",
              "<style scoped>\n",
              "    .dataframe tbody tr th:only-of-type {\n",
              "        vertical-align: middle;\n",
              "    }\n",
              "\n",
              "    .dataframe tbody tr th {\n",
              "        vertical-align: top;\n",
              "    }\n",
              "\n",
              "    .dataframe thead th {\n",
              "        text-align: right;\n",
              "    }\n",
              "</style>\n",
              "<table border=\"1\" class=\"dataframe\">\n",
              "  <thead>\n",
              "    <tr style=\"text-align: right;\">\n",
              "      <th></th>\n",
              "      <th>ts</th>\n",
              "      <th>uid</th>\n",
              "      <th>id.orig_h</th>\n",
              "      <th>id.orig_p</th>\n",
              "      <th>id.resp_h</th>\n",
              "      <th>id.resp_p</th>\n",
              "      <th>proto</th>\n",
              "      <th>service</th>\n",
              "      <th>duration</th>\n",
              "      <th>orig_bytes</th>\n",
              "      <th>resp_bytes</th>\n",
              "      <th>conn_state</th>\n",
              "      <th>local_orig</th>\n",
              "      <th>local_resp</th>\n",
              "      <th>missed_bytes</th>\n",
              "      <th>history</th>\n",
              "      <th>orig_pkts</th>\n",
              "      <th>orig_ip_bytes</th>\n",
              "      <th>resp_pkts</th>\n",
              "      <th>resp_ip_bytes</th>\n",
              "      <th>label</th>\n",
              "      <th>zip</th>\n",
              "      <th>country</th>\n",
              "      <th>city</th>\n",
              "      <th>continent</th>\n",
              "    </tr>\n",
              "  </thead>\n",
              "  <tbody>\n",
              "    <tr>\n",
              "      <th>143</th>\n",
              "      <td>1.52588e+09</td>\n",
              "      <td>C0kwyC47NorZVvNat8</td>\n",
              "      <td>122.152.1.198</td>\n",
              "      <td>11.0</td>\n",
              "      <td>192.168.100.103</td>\n",
              "      <td>0.0</td>\n",
              "      <td>icmp</td>\n",
              "      <td>-</td>\n",
              "      <td>-</td>\n",
              "      <td>-</td>\n",
              "      <td>-</td>\n",
              "      <td>OTH</td>\n",
              "      <td>-</td>\n",
              "      <td>-</td>\n",
              "      <td>0.0</td>\n",
              "      <td>-</td>\n",
              "      <td>1.0</td>\n",
              "      <td>56.0</td>\n",
              "      <td>0.0</td>\n",
              "      <td>0.0</td>\n",
              "      <td>(empty)   Benign   -</td>\n",
              "      <td>150-0001</td>\n",
              "      <td>Japan</td>\n",
              "      <td>Tokyo</td>\n",
              "      <td>Asia</td>\n",
              "    </tr>\n",
              "    <tr>\n",
              "      <th>148</th>\n",
              "      <td>1.52588e+09</td>\n",
              "      <td>CYTRb34oQXGxDRvh25</td>\n",
              "      <td>77.217.131.211</td>\n",
              "      <td>3.0</td>\n",
              "      <td>192.168.100.103</td>\n",
              "      <td>3.0</td>\n",
              "      <td>icmp</td>\n",
              "      <td>-</td>\n",
              "      <td>-</td>\n",
              "      <td>-</td>\n",
              "      <td>-</td>\n",
              "      <td>OTH</td>\n",
              "      <td>-</td>\n",
              "      <td>-</td>\n",
              "      <td>0.0</td>\n",
              "      <td>-</td>\n",
              "      <td>1.0</td>\n",
              "      <td>68.0</td>\n",
              "      <td>0.0</td>\n",
              "      <td>0.0</td>\n",
              "      <td>(empty)   Benign   -</td>\n",
              "      <td>10000</td>\n",
              "      <td>Croatia</td>\n",
              "      <td>Zagreb</td>\n",
              "      <td>Europe</td>\n",
              "    </tr>\n",
              "    <tr>\n",
              "      <th>192</th>\n",
              "      <td>1.52588e+09</td>\n",
              "      <td>C37YVX39MI9decg3Uh</td>\n",
              "      <td>182.38.96.176</td>\n",
              "      <td>3.0</td>\n",
              "      <td>192.168.100.103</td>\n",
              "      <td>3.0</td>\n",
              "      <td>icmp</td>\n",
              "      <td>-</td>\n",
              "      <td>-</td>\n",
              "      <td>-</td>\n",
              "      <td>-</td>\n",
              "      <td>OTH</td>\n",
              "      <td>-</td>\n",
              "      <td>-</td>\n",
              "      <td>0.0</td>\n",
              "      <td>-</td>\n",
              "      <td>1.0</td>\n",
              "      <td>68.0</td>\n",
              "      <td>0.0</td>\n",
              "      <td>0.0</td>\n",
              "      <td>(empty)   Benign   -</td>\n",
              "      <td>266000</td>\n",
              "      <td>China</td>\n",
              "      <td>Qingdao</td>\n",
              "      <td>Asia</td>\n",
              "    </tr>\n",
              "    <tr>\n",
              "      <th>296</th>\n",
              "      <td>1.52588e+09</td>\n",
              "      <td>CL3uMq4l9zr0ztro86</td>\n",
              "      <td>211.170.38.34</td>\n",
              "      <td>3.0</td>\n",
              "      <td>192.168.100.103</td>\n",
              "      <td>1.0</td>\n",
              "      <td>icmp</td>\n",
              "      <td>-</td>\n",
              "      <td>0.000004</td>\n",
              "      <td>120</td>\n",
              "      <td>0</td>\n",
              "      <td>OTH</td>\n",
              "      <td>-</td>\n",
              "      <td>-</td>\n",
              "      <td>0.0</td>\n",
              "      <td>-</td>\n",
              "      <td>2.0</td>\n",
              "      <td>176.0</td>\n",
              "      <td>0.0</td>\n",
              "      <td>0.0</td>\n",
              "      <td>(empty)   Benign   -</td>\n",
              "      <td>442-040</td>\n",
              "      <td>South Korea</td>\n",
              "      <td>Suwon</td>\n",
              "      <td>Asia</td>\n",
              "    </tr>\n",
              "    <tr>\n",
              "      <th>318</th>\n",
              "      <td>1.52588e+09</td>\n",
              "      <td>CtDV071Kp6Xqlv7Yzi</td>\n",
              "      <td>71.238.84.246</td>\n",
              "      <td>3.0</td>\n",
              "      <td>192.168.100.103</td>\n",
              "      <td>3.0</td>\n",
              "      <td>icmp</td>\n",
              "      <td>-</td>\n",
              "      <td>-</td>\n",
              "      <td>-</td>\n",
              "      <td>-</td>\n",
              "      <td>OTH</td>\n",
              "      <td>-</td>\n",
              "      <td>-</td>\n",
              "      <td>0.0</td>\n",
              "      <td>-</td>\n",
              "      <td>1.0</td>\n",
              "      <td>68.0</td>\n",
              "      <td>0.0</td>\n",
              "      <td>0.0</td>\n",
              "      <td>(empty)   Benign   -</td>\n",
              "      <td>97075</td>\n",
              "      <td>United States</td>\n",
              "      <td>Beaverton</td>\n",
              "      <td>North America</td>\n",
              "    </tr>\n",
              "    <tr>\n",
              "      <th>...</th>\n",
              "      <td>...</td>\n",
              "      <td>...</td>\n",
              "      <td>...</td>\n",
              "      <td>...</td>\n",
              "      <td>...</td>\n",
              "      <td>...</td>\n",
              "      <td>...</td>\n",
              "      <td>...</td>\n",
              "      <td>...</td>\n",
              "      <td>...</td>\n",
              "      <td>...</td>\n",
              "      <td>...</td>\n",
              "      <td>...</td>\n",
              "      <td>...</td>\n",
              "      <td>...</td>\n",
              "      <td>...</td>\n",
              "      <td>...</td>\n",
              "      <td>...</td>\n",
              "      <td>...</td>\n",
              "      <td>...</td>\n",
              "      <td>...</td>\n",
              "      <td>...</td>\n",
              "      <td>...</td>\n",
              "      <td>...</td>\n",
              "      <td>...</td>\n",
              "    </tr>\n",
              "    <tr>\n",
              "      <th>81512</th>\n",
              "      <td>1.53253e+09</td>\n",
              "      <td>CpwArD1fGA0R6PPEje</td>\n",
              "      <td>211.170.12.158</td>\n",
              "      <td>3.0</td>\n",
              "      <td>192.168.100.111</td>\n",
              "      <td>1.0</td>\n",
              "      <td>icmp</td>\n",
              "      <td>-</td>\n",
              "      <td>-</td>\n",
              "      <td>-</td>\n",
              "      <td>-</td>\n",
              "      <td>OTH</td>\n",
              "      <td>-</td>\n",
              "      <td>-</td>\n",
              "      <td>0.0</td>\n",
              "      <td>-</td>\n",
              "      <td>1.0</td>\n",
              "      <td>68.0</td>\n",
              "      <td>0.0</td>\n",
              "      <td>0.0</td>\n",
              "      <td>(empty)   Benign   -</td>\n",
              "      <td>423-700</td>\n",
              "      <td>South Korea</td>\n",
              "      <td>Anyang-si</td>\n",
              "      <td>Asia</td>\n",
              "    </tr>\n",
              "    <tr>\n",
              "      <th>82282</th>\n",
              "      <td>1.53253e+09</td>\n",
              "      <td>CkF9cYfBil0timxxf</td>\n",
              "      <td>150.99.189.238</td>\n",
              "      <td>3.0</td>\n",
              "      <td>192.168.100.111</td>\n",
              "      <td>0.0</td>\n",
              "      <td>icmp</td>\n",
              "      <td>-</td>\n",
              "      <td>-</td>\n",
              "      <td>-</td>\n",
              "      <td>-</td>\n",
              "      <td>OTH</td>\n",
              "      <td>-</td>\n",
              "      <td>-</td>\n",
              "      <td>0.0</td>\n",
              "      <td>-</td>\n",
              "      <td>1.0</td>\n",
              "      <td>68.0</td>\n",
              "      <td>0.0</td>\n",
              "      <td>0.0</td>\n",
              "      <td>(empty)   Benign   -</td>\n",
              "      <td>980-0011</td>\n",
              "      <td>Japan</td>\n",
              "      <td>Sendai</td>\n",
              "      <td>Asia</td>\n",
              "    </tr>\n",
              "    <tr>\n",
              "      <th>85245</th>\n",
              "      <td>1.53253e+09</td>\n",
              "      <td>CB4M2d1GrezcG28XFh</td>\n",
              "      <td>185.79.108.251</td>\n",
              "      <td>11.0</td>\n",
              "      <td>192.168.100.111</td>\n",
              "      <td>0.0</td>\n",
              "      <td>icmp</td>\n",
              "      <td>-</td>\n",
              "      <td>-</td>\n",
              "      <td>-</td>\n",
              "      <td>-</td>\n",
              "      <td>OTH</td>\n",
              "      <td>-</td>\n",
              "      <td>-</td>\n",
              "      <td>0.0</td>\n",
              "      <td>-</td>\n",
              "      <td>1.0</td>\n",
              "      <td>56.0</td>\n",
              "      <td>0.0</td>\n",
              "      <td>0.0</td>\n",
              "      <td>(empty)   Benign   -</td>\n",
              "      <td>CF15</td>\n",
              "      <td>United Kingdom</td>\n",
              "      <td>Cardiff</td>\n",
              "      <td>Europe</td>\n",
              "    </tr>\n",
              "    <tr>\n",
              "      <th>91543</th>\n",
              "      <td>1.53253e+09</td>\n",
              "      <td>CiJZhJ1TVdBsmzRsU8</td>\n",
              "      <td>24.115.72.41</td>\n",
              "      <td>3.0</td>\n",
              "      <td>192.168.100.111</td>\n",
              "      <td>13.0</td>\n",
              "      <td>icmp</td>\n",
              "      <td>-</td>\n",
              "      <td>-</td>\n",
              "      <td>-</td>\n",
              "      <td>-</td>\n",
              "      <td>OTH</td>\n",
              "      <td>-</td>\n",
              "      <td>-</td>\n",
              "      <td>0.0</td>\n",
              "      <td>-</td>\n",
              "      <td>1.0</td>\n",
              "      <td>56.0</td>\n",
              "      <td>0.0</td>\n",
              "      <td>0.0</td>\n",
              "      <td>(empty)   Benign   -</td>\n",
              "      <td>17543</td>\n",
              "      <td>United States</td>\n",
              "      <td>Lancaster</td>\n",
              "      <td>North America</td>\n",
              "    </tr>\n",
              "    <tr>\n",
              "      <th>95267</th>\n",
              "      <td>1.53253e+09</td>\n",
              "      <td>CrcFu33lDZPZeBMUUi</td>\n",
              "      <td>200.170.196.189</td>\n",
              "      <td>11.0</td>\n",
              "      <td>192.168.100.111</td>\n",
              "      <td>0.0</td>\n",
              "      <td>icmp</td>\n",
              "      <td>-</td>\n",
              "      <td>-</td>\n",
              "      <td>-</td>\n",
              "      <td>-</td>\n",
              "      <td>OTH</td>\n",
              "      <td>-</td>\n",
              "      <td>-</td>\n",
              "      <td>0.0</td>\n",
              "      <td>-</td>\n",
              "      <td>1.0</td>\n",
              "      <td>68.0</td>\n",
              "      <td>0.0</td>\n",
              "      <td>0.0</td>\n",
              "      <td>(empty)   Benign   -</td>\n",
              "      <td>01001-000</td>\n",
              "      <td>Brazil</td>\n",
              "      <td>São Paulo</td>\n",
              "      <td>South America</td>\n",
              "    </tr>\n",
              "  </tbody>\n",
              "</table>\n",
              "<p>3532 rows × 25 columns</p>\n",
              "</div>"
            ],
            "text/plain": [
              "                ts                 uid  ...       city      continent\n",
              "143    1.52588e+09  C0kwyC47NorZVvNat8  ...      Tokyo           Asia\n",
              "148    1.52588e+09  CYTRb34oQXGxDRvh25  ...     Zagreb         Europe\n",
              "192    1.52588e+09  C37YVX39MI9decg3Uh  ...    Qingdao           Asia\n",
              "296    1.52588e+09  CL3uMq4l9zr0ztro86  ...      Suwon           Asia\n",
              "318    1.52588e+09  CtDV071Kp6Xqlv7Yzi  ...  Beaverton  North America\n",
              "...            ...                 ...  ...        ...            ...\n",
              "81512  1.53253e+09  CpwArD1fGA0R6PPEje  ...  Anyang-si           Asia\n",
              "82282  1.53253e+09   CkF9cYfBil0timxxf  ...     Sendai           Asia\n",
              "85245  1.53253e+09  CB4M2d1GrezcG28XFh  ...    Cardiff         Europe\n",
              "91543  1.53253e+09  CiJZhJ1TVdBsmzRsU8  ...  Lancaster  North America\n",
              "95267  1.53253e+09  CrcFu33lDZPZeBMUUi  ...  São Paulo  South America\n",
              "\n",
              "[3532 rows x 25 columns]"
            ]
          },
          "metadata": {},
          "execution_count": 20
        }
      ]
    },
    {
      "cell_type": "code",
      "metadata": {
        "id": "iMu-ygstp56U"
      },
      "source": [
        "df_l.to_csv(\"/content/drive/MyDrive/Pickles/df_updated.csv\")"
      ],
      "execution_count": 11,
      "outputs": []
    },
    {
      "cell_type": "code",
      "metadata": {
        "id": "MTkVYD5YsGDp"
      },
      "source": [
        "df_l.to_pickle(\"/content/drive/MyDrive/Pickles/df_updated.pkl\")"
      ],
      "execution_count": 104,
      "outputs": []
    },
    {
      "cell_type": "code",
      "metadata": {
        "id": "QY8C50R7shyV"
      },
      "source": [
        "df_views= pd.read_pickle(\"/content/drive/MyDrive/Pickles/df_updated.pkl\")"
      ],
      "execution_count": 4,
      "outputs": []
    },
    {
      "cell_type": "code",
      "metadata": {
        "colab": {
          "base_uri": "https://localhost:8080/"
        },
        "id": "8-p_8bvLsy0x",
        "outputId": "6ac79f88-bcb2-4146-b96d-22f9a6d40f34"
      },
      "source": [
        "df_views['label'].unique()"
      ],
      "execution_count": 6,
      "outputs": [
        {
          "output_type": "execute_result",
          "data": {
            "text/plain": [
              "array(['(empty)   Benign   -', 'Malicious'], dtype=object)"
            ]
          },
          "metadata": {},
          "execution_count": 6
        }
      ]
    },
    {
      "cell_type": "code",
      "metadata": {
        "colab": {
          "base_uri": "https://localhost:8080/"
        },
        "id": "nHZEG1yDth-l",
        "outputId": "8715659a-1357-4bb3-b9c7-9f78f9b6e2c8"
      },
      "source": [
        "#count each label category\n",
        "df_views['label'].value_counts()"
      ],
      "execution_count": 7,
      "outputs": [
        {
          "output_type": "execute_result",
          "data": {
            "text/plain": [
              "(empty)   Benign   -    3334\n",
              "Malicious                198\n",
              "Name: label, dtype: int64"
            ]
          },
          "metadata": {},
          "execution_count": 7
        }
      ]
    },
    {
      "cell_type": "code",
      "metadata": {
        "id": "hpA2GXAfuGT0",
        "colab": {
          "base_uri": "https://localhost:8080/",
          "height": 1000
        },
        "outputId": "b5958418-5a0a-40b1-bd46-eaa65b531494"
      },
      "source": [
        "#Correlation heatmap\n",
        "plt.figure(figsize=(20,20))\n",
        "sns.heatmap(df_views.corr(), annot=True, cmap='Oranges')\n",
        "plt.title('Correlation heatmap',size=5)\n",
        "plt.show()"
      ],
      "execution_count": 113,
      "outputs": [
        {
          "output_type": "display_data",
          "data": {
            "image/png": "[encoded data removed]",
            "text/plain": [
              "<Figure size 1440x1440 with 2 Axes>"
            ]
          },
          "metadata": {
            "needs_background": "light"
          }
        }
      ]
    },
    {
      "cell_type": "code",
      "metadata": {
        "colab": {
          "base_uri": "https://localhost:8080/",
          "height": 49,
          "referenced_widgets": [
            "473483b2318b428f9062edfb725c6bc7",
            "5fc618268c644518835b0c3dec00f414",
            "44f3dc2d387b42f29dee05f086ea9ba7",
            "4690b1b2edae433e9716ead5d68109e6",
            "bc5d7f637e9949c7af6344be629bf4d7",
            "72bbf322b1004194b54a34ba6af474e2",
            "6d211ce677774fc2b063857b148dca5a",
            "e658f8e9a216472f9ea24cbedf9e7001",
            "cd2a1b8c14af4dac8bfcfca05c5542fb",
            "19bcd3ed4a9c4bbea625fc35b638ca3b",
            "3de9ddaf50a04226a9990ad76a802ee9"
          ]
        },
        "id": "NLvyeXew_DV1",
        "outputId": "4f29471c-ca08-4aa0-ba59-177117ed0263"
      },
      "source": [
        "#Data Visualization using Sweet Viz library\n",
        "df_views['ts'] = pd.to_numeric(df_views['ts'], errors='coerce')\n",
        "df_views['duration'] = df_views['duration'].astype(str)\n",
        "df_views['orig_bytes'] = df_views['orig_bytes'].astype(str)\n",
        "df_views['resp_bytes'] = df_views['resp_bytes'].astype(str)\n",
        "\n",
        "data_report = sv.analyze(df_views)"
      ],
      "execution_count": 114,
      "outputs": [
        {
          "output_type": "display_data",
          "data": {
            "application/vnd.jupyter.widget-view+json": {
              "model_id": "473483b2318b428f9062edfb725c6bc7",
              "version_minor": 0,
              "version_major": 2
            },
            "text/plain": [
              "                                             |          | [  0%]   00:00 -> (? left)"
            ]
          },
          "metadata": {}
        }
      ]
    },
    {
      "cell_type": "code",
      "metadata": {
        "colab": {
          "base_uri": "https://localhost:8080/"
        },
        "id": "g2_XajBKArJR",
        "outputId": "2bababb4-a8ab-4af7-875d-601298b673d8"
      },
      "source": [
        "#data_Report html will be opened in a new tab\n",
        "data_report.show_html(\"data_Report.html\")"
      ],
      "execution_count": 115,
      "outputs": [
        {
          "output_type": "stream",
          "name": "stdout",
          "text": [
            "Report data_Report.html was generated! NOTEBOOK/COLAB USERS: the web browser MAY not pop up, regardless, the report IS saved in your notebook/colab files.\n"
          ]
        }
      ]
    },
    {
      "cell_type": "code",
      "metadata": {
        "colab": {
          "base_uri": "https://localhost:8080/",
          "height": 1000
        },
        "id": "iWHgKoCZ_xPE",
        "outputId": "2fef6105-2d9e-4f95-8633-ad30e917719a"
      },
      "source": [
        "df_views.hist(bins = 50,figsize = (20,20))"
      ],
      "execution_count": 116,
      "outputs": [
        {
          "output_type": "execute_result",
          "data": {
            "text/plain": [
              "array([[<matplotlib.axes._subplots.AxesSubplot object at 0x7fa3f62e7190>,\n",
              "        <matplotlib.axes._subplots.AxesSubplot object at 0x7fa3f60603d0>,\n",
              "        <matplotlib.axes._subplots.AxesSubplot object at 0x7fa3f5ca9410>],\n",
              "       [<matplotlib.axes._subplots.AxesSubplot object at 0x7fa3f5f5f410>,\n",
              "        <matplotlib.axes._subplots.AxesSubplot object at 0x7fa3f63e3590>,\n",
              "        <matplotlib.axes._subplots.AxesSubplot object at 0x7fa3f5bf1450>],\n",
              "       [<matplotlib.axes._subplots.AxesSubplot object at 0x7fa3f5b27b50>,\n",
              "        <matplotlib.axes._subplots.AxesSubplot object at 0x7fa3f5aa9150>,\n",
              "        <matplotlib.axes._subplots.AxesSubplot object at 0x7fa3f5aa9190>]],\n",
              "      dtype=object)"
            ]
          },
          "metadata": {},
          "execution_count": 116
        },
        {
          "output_type": "display_data",
          "data": {
            "image/png": "[encoded data removed]",
            "text/plain": [
              "<Figure size 2000x2000 with 9 Axes>"
            ]
          },
          "metadata": {}
        }
      ]
    },
    {
      "cell_type": "code",
      "metadata": {
        "id": "lT01qFHJZlN4"
      },
      "source": [
        "from sklearn.model_selection import train_test_split\n",
        "from sklearn import preprocessing\n",
        "from sklearn.linear_model import LinearRegression\n",
        "from sklearn.metrics import accuracy_score\n",
        "from sklearn.preprocessing import StandardScaler\n",
        "from sklearn.model_selection import GridSearchCV"
      ],
      "execution_count": 1,
      "outputs": []
    },
    {
      "cell_type": "code",
      "metadata": {
        "id": "24zuRmpDhANj"
      },
      "source": [
        "df_views = df_views[['ts', 'uid', 'id.orig_h', 'id.orig_p', 'id.resp_h', 'id.resp_p',\n",
        "       'proto', 'service', 'duration', 'orig_bytes', 'resp_bytes',\n",
        "       'conn_state', 'local_orig', 'local_resp', 'missed_bytes', 'history',\n",
        "       'orig_pkts', 'orig_ip_bytes', 'resp_pkts', 'resp_ip_bytes','continent',\n",
        "       'zip', 'country', 'city','label']]"
      ],
      "execution_count": 8,
      "outputs": []
    },
    {
      "cell_type": "code",
      "metadata": {
        "colab": {
          "base_uri": "https://localhost:8080/",
          "height": 773
        },
        "id": "HMPIKv68izxs",
        "outputId": "41c73f2a-e529-4a7b-955d-7769387c503f"
      },
      "source": [
        "df_views"
      ],
      "execution_count": 9,
      "outputs": [
        {
          "output_type": "execute_result",
          "data": {
            "text/html": [
              "<div>\n",
              "<style scoped>\n",
              "    .dataframe tbody tr th:only-of-type {\n",
              "        vertical-align: middle;\n",
              "    }\n",
              "\n",
              "    .dataframe tbody tr th {\n",
              "        vertical-align: top;\n",
              "    }\n",
              "\n",
              "    .dataframe thead th {\n",
              "        text-align: right;\n",
              "    }\n",
              "</style>\n",
              "<table border=\"1\" class=\"dataframe\">\n",
              "  <thead>\n",
              "    <tr style=\"text-align: right;\">\n",
              "      <th></th>\n",
              "      <th>ts</th>\n",
              "      <th>uid</th>\n",
              "      <th>id.orig_h</th>\n",
              "      <th>id.orig_p</th>\n",
              "      <th>id.resp_h</th>\n",
              "      <th>id.resp_p</th>\n",
              "      <th>proto</th>\n",
              "      <th>service</th>\n",
              "      <th>duration</th>\n",
              "      <th>orig_bytes</th>\n",
              "      <th>resp_bytes</th>\n",
              "      <th>conn_state</th>\n",
              "      <th>local_orig</th>\n",
              "      <th>local_resp</th>\n",
              "      <th>missed_bytes</th>\n",
              "      <th>history</th>\n",
              "      <th>orig_pkts</th>\n",
              "      <th>orig_ip_bytes</th>\n",
              "      <th>resp_pkts</th>\n",
              "      <th>resp_ip_bytes</th>\n",
              "      <th>continent</th>\n",
              "      <th>zip</th>\n",
              "      <th>country</th>\n",
              "      <th>city</th>\n",
              "      <th>label</th>\n",
              "    </tr>\n",
              "  </thead>\n",
              "  <tbody>\n",
              "    <tr>\n",
              "      <th>143</th>\n",
              "      <td>1.52588e+09</td>\n",
              "      <td>C0kwyC47NorZVvNat8</td>\n",
              "      <td>122.152.1.198</td>\n",
              "      <td>11.0</td>\n",
              "      <td>192.168.100.103</td>\n",
              "      <td>0.0</td>\n",
              "      <td>icmp</td>\n",
              "      <td>-</td>\n",
              "      <td>-</td>\n",
              "      <td>-</td>\n",
              "      <td>-</td>\n",
              "      <td>OTH</td>\n",
              "      <td>-</td>\n",
              "      <td>-</td>\n",
              "      <td>0.0</td>\n",
              "      <td>-</td>\n",
              "      <td>1.0</td>\n",
              "      <td>56.0</td>\n",
              "      <td>0.0</td>\n",
              "      <td>0.0</td>\n",
              "      <td>Asia</td>\n",
              "      <td>150-0001</td>\n",
              "      <td>Japan</td>\n",
              "      <td>Tokyo</td>\n",
              "      <td>(empty)   Benign   -</td>\n",
              "    </tr>\n",
              "    <tr>\n",
              "      <th>148</th>\n",
              "      <td>1.52588e+09</td>\n",
              "      <td>CYTRb34oQXGxDRvh25</td>\n",
              "      <td>77.217.131.211</td>\n",
              "      <td>3.0</td>\n",
              "      <td>192.168.100.103</td>\n",
              "      <td>3.0</td>\n",
              "      <td>icmp</td>\n",
              "      <td>-</td>\n",
              "      <td>-</td>\n",
              "      <td>-</td>\n",
              "      <td>-</td>\n",
              "      <td>OTH</td>\n",
              "      <td>-</td>\n",
              "      <td>-</td>\n",
              "      <td>0.0</td>\n",
              "      <td>-</td>\n",
              "      <td>1.0</td>\n",
              "      <td>68.0</td>\n",
              "      <td>0.0</td>\n",
              "      <td>0.0</td>\n",
              "      <td>Europe</td>\n",
              "      <td>10000</td>\n",
              "      <td>Croatia</td>\n",
              "      <td>Zagreb</td>\n",
              "      <td>(empty)   Benign   -</td>\n",
              "    </tr>\n",
              "    <tr>\n",
              "      <th>192</th>\n",
              "      <td>1.52588e+09</td>\n",
              "      <td>C37YVX39MI9decg3Uh</td>\n",
              "      <td>182.38.96.176</td>\n",
              "      <td>3.0</td>\n",
              "      <td>192.168.100.103</td>\n",
              "      <td>3.0</td>\n",
              "      <td>icmp</td>\n",
              "      <td>-</td>\n",
              "      <td>-</td>\n",
              "      <td>-</td>\n",
              "      <td>-</td>\n",
              "      <td>OTH</td>\n",
              "      <td>-</td>\n",
              "      <td>-</td>\n",
              "      <td>0.0</td>\n",
              "      <td>-</td>\n",
              "      <td>1.0</td>\n",
              "      <td>68.0</td>\n",
              "      <td>0.0</td>\n",
              "      <td>0.0</td>\n",
              "      <td>Asia</td>\n",
              "      <td>266000</td>\n",
              "      <td>China</td>\n",
              "      <td>Qingdao</td>\n",
              "      <td>(empty)   Benign   -</td>\n",
              "    </tr>\n",
              "    <tr>\n",
              "      <th>296</th>\n",
              "      <td>1.52588e+09</td>\n",
              "      <td>CL3uMq4l9zr0ztro86</td>\n",
              "      <td>211.170.38.34</td>\n",
              "      <td>3.0</td>\n",
              "      <td>192.168.100.103</td>\n",
              "      <td>1.0</td>\n",
              "      <td>icmp</td>\n",
              "      <td>-</td>\n",
              "      <td>0.000004</td>\n",
              "      <td>120</td>\n",
              "      <td>0</td>\n",
              "      <td>OTH</td>\n",
              "      <td>-</td>\n",
              "      <td>-</td>\n",
              "      <td>0.0</td>\n",
              "      <td>-</td>\n",
              "      <td>2.0</td>\n",
              "      <td>176.0</td>\n",
              "      <td>0.0</td>\n",
              "      <td>0.0</td>\n",
              "      <td>Asia</td>\n",
              "      <td>442-040</td>\n",
              "      <td>South Korea</td>\n",
              "      <td>Suwon</td>\n",
              "      <td>(empty)   Benign   -</td>\n",
              "    </tr>\n",
              "    <tr>\n",
              "      <th>318</th>\n",
              "      <td>1.52588e+09</td>\n",
              "      <td>CtDV071Kp6Xqlv7Yzi</td>\n",
              "      <td>71.238.84.246</td>\n",
              "      <td>3.0</td>\n",
              "      <td>192.168.100.103</td>\n",
              "      <td>3.0</td>\n",
              "      <td>icmp</td>\n",
              "      <td>-</td>\n",
              "      <td>-</td>\n",
              "      <td>-</td>\n",
              "      <td>-</td>\n",
              "      <td>OTH</td>\n",
              "      <td>-</td>\n",
              "      <td>-</td>\n",
              "      <td>0.0</td>\n",
              "      <td>-</td>\n",
              "      <td>1.0</td>\n",
              "      <td>68.0</td>\n",
              "      <td>0.0</td>\n",
              "      <td>0.0</td>\n",
              "      <td>North America</td>\n",
              "      <td>97075</td>\n",
              "      <td>United States</td>\n",
              "      <td>Beaverton</td>\n",
              "      <td>(empty)   Benign   -</td>\n",
              "    </tr>\n",
              "    <tr>\n",
              "      <th>...</th>\n",
              "      <td>...</td>\n",
              "      <td>...</td>\n",
              "      <td>...</td>\n",
              "      <td>...</td>\n",
              "      <td>...</td>\n",
              "      <td>...</td>\n",
              "      <td>...</td>\n",
              "      <td>...</td>\n",
              "      <td>...</td>\n",
              "      <td>...</td>\n",
              "      <td>...</td>\n",
              "      <td>...</td>\n",
              "      <td>...</td>\n",
              "      <td>...</td>\n",
              "      <td>...</td>\n",
              "      <td>...</td>\n",
              "      <td>...</td>\n",
              "      <td>...</td>\n",
              "      <td>...</td>\n",
              "      <td>...</td>\n",
              "      <td>...</td>\n",
              "      <td>...</td>\n",
              "      <td>...</td>\n",
              "      <td>...</td>\n",
              "      <td>...</td>\n",
              "    </tr>\n",
              "    <tr>\n",
              "      <th>81512</th>\n",
              "      <td>1.53253e+09</td>\n",
              "      <td>CpwArD1fGA0R6PPEje</td>\n",
              "      <td>211.170.12.158</td>\n",
              "      <td>3.0</td>\n",
              "      <td>192.168.100.111</td>\n",
              "      <td>1.0</td>\n",
              "      <td>icmp</td>\n",
              "      <td>-</td>\n",
              "      <td>-</td>\n",
              "      <td>-</td>\n",
              "      <td>-</td>\n",
              "      <td>OTH</td>\n",
              "      <td>-</td>\n",
              "      <td>-</td>\n",
              "      <td>0.0</td>\n",
              "      <td>-</td>\n",
              "      <td>1.0</td>\n",
              "      <td>68.0</td>\n",
              "      <td>0.0</td>\n",
              "      <td>0.0</td>\n",
              "      <td>Asia</td>\n",
              "      <td>423-700</td>\n",
              "      <td>South Korea</td>\n",
              "      <td>Anyang-si</td>\n",
              "      <td>(empty)   Benign   -</td>\n",
              "    </tr>\n",
              "    <tr>\n",
              "      <th>82282</th>\n",
              "      <td>1.53253e+09</td>\n",
              "      <td>CkF9cYfBil0timxxf</td>\n",
              "      <td>150.99.189.238</td>\n",
              "      <td>3.0</td>\n",
              "      <td>192.168.100.111</td>\n",
              "      <td>0.0</td>\n",
              "      <td>icmp</td>\n",
              "      <td>-</td>\n",
              "      <td>-</td>\n",
              "      <td>-</td>\n",
              "      <td>-</td>\n",
              "      <td>OTH</td>\n",
              "      <td>-</td>\n",
              "      <td>-</td>\n",
              "      <td>0.0</td>\n",
              "      <td>-</td>\n",
              "      <td>1.0</td>\n",
              "      <td>68.0</td>\n",
              "      <td>0.0</td>\n",
              "      <td>0.0</td>\n",
              "      <td>Asia</td>\n",
              "      <td>980-0011</td>\n",
              "      <td>Japan</td>\n",
              "      <td>Sendai</td>\n",
              "      <td>(empty)   Benign   -</td>\n",
              "    </tr>\n",
              "    <tr>\n",
              "      <th>85245</th>\n",
              "      <td>1.53253e+09</td>\n",
              "      <td>CB4M2d1GrezcG28XFh</td>\n",
              "      <td>185.79.108.251</td>\n",
              "      <td>11.0</td>\n",
              "      <td>192.168.100.111</td>\n",
              "      <td>0.0</td>\n",
              "      <td>icmp</td>\n",
              "      <td>-</td>\n",
              "      <td>-</td>\n",
              "      <td>-</td>\n",
              "      <td>-</td>\n",
              "      <td>OTH</td>\n",
              "      <td>-</td>\n",
              "      <td>-</td>\n",
              "      <td>0.0</td>\n",
              "      <td>-</td>\n",
              "      <td>1.0</td>\n",
              "      <td>56.0</td>\n",
              "      <td>0.0</td>\n",
              "      <td>0.0</td>\n",
              "      <td>Europe</td>\n",
              "      <td>CF15</td>\n",
              "      <td>United Kingdom</td>\n",
              "      <td>Cardiff</td>\n",
              "      <td>(empty)   Benign   -</td>\n",
              "    </tr>\n",
              "    <tr>\n",
              "      <th>91543</th>\n",
              "      <td>1.53253e+09</td>\n",
              "      <td>CiJZhJ1TVdBsmzRsU8</td>\n",
              "      <td>24.115.72.41</td>\n",
              "      <td>3.0</td>\n",
              "      <td>192.168.100.111</td>\n",
              "      <td>13.0</td>\n",
              "      <td>icmp</td>\n",
              "      <td>-</td>\n",
              "      <td>-</td>\n",
              "      <td>-</td>\n",
              "      <td>-</td>\n",
              "      <td>OTH</td>\n",
              "      <td>-</td>\n",
              "      <td>-</td>\n",
              "      <td>0.0</td>\n",
              "      <td>-</td>\n",
              "      <td>1.0</td>\n",
              "      <td>56.0</td>\n",
              "      <td>0.0</td>\n",
              "      <td>0.0</td>\n",
              "      <td>North America</td>\n",
              "      <td>17543</td>\n",
              "      <td>United States</td>\n",
              "      <td>Lancaster</td>\n",
              "      <td>(empty)   Benign   -</td>\n",
              "    </tr>\n",
              "    <tr>\n",
              "      <th>95267</th>\n",
              "      <td>1.53253e+09</td>\n",
              "      <td>CrcFu33lDZPZeBMUUi</td>\n",
              "      <td>200.170.196.189</td>\n",
              "      <td>11.0</td>\n",
              "      <td>192.168.100.111</td>\n",
              "      <td>0.0</td>\n",
              "      <td>icmp</td>\n",
              "      <td>-</td>\n",
              "      <td>-</td>\n",
              "      <td>-</td>\n",
              "      <td>-</td>\n",
              "      <td>OTH</td>\n",
              "      <td>-</td>\n",
              "      <td>-</td>\n",
              "      <td>0.0</td>\n",
              "      <td>-</td>\n",
              "      <td>1.0</td>\n",
              "      <td>68.0</td>\n",
              "      <td>0.0</td>\n",
              "      <td>0.0</td>\n",
              "      <td>South America</td>\n",
              "      <td>01001-000</td>\n",
              "      <td>Brazil</td>\n",
              "      <td>São Paulo</td>\n",
              "      <td>(empty)   Benign   -</td>\n",
              "    </tr>\n",
              "  </tbody>\n",
              "</table>\n",
              "<p>3532 rows × 25 columns</p>\n",
              "</div>"
            ],
            "text/plain": [
              "                ts                 uid  ...       city                 label\n",
              "143    1.52588e+09  C0kwyC47NorZVvNat8  ...      Tokyo  (empty)   Benign   -\n",
              "148    1.52588e+09  CYTRb34oQXGxDRvh25  ...     Zagreb  (empty)   Benign   -\n",
              "192    1.52588e+09  C37YVX39MI9decg3Uh  ...    Qingdao  (empty)   Benign   -\n",
              "296    1.52588e+09  CL3uMq4l9zr0ztro86  ...      Suwon  (empty)   Benign   -\n",
              "318    1.52588e+09  CtDV071Kp6Xqlv7Yzi  ...  Beaverton  (empty)   Benign   -\n",
              "...            ...                 ...  ...        ...                   ...\n",
              "81512  1.53253e+09  CpwArD1fGA0R6PPEje  ...  Anyang-si  (empty)   Benign   -\n",
              "82282  1.53253e+09   CkF9cYfBil0timxxf  ...     Sendai  (empty)   Benign   -\n",
              "85245  1.53253e+09  CB4M2d1GrezcG28XFh  ...    Cardiff  (empty)   Benign   -\n",
              "91543  1.53253e+09  CiJZhJ1TVdBsmzRsU8  ...  Lancaster  (empty)   Benign   -\n",
              "95267  1.53253e+09  CrcFu33lDZPZeBMUUi  ...  São Paulo  (empty)   Benign   -\n",
              "\n",
              "[3532 rows x 25 columns]"
            ]
          },
          "metadata": {},
          "execution_count": 9
        }
      ]
    },
    {
      "cell_type": "code",
      "metadata": {
        "colab": {
          "base_uri": "https://localhost:8080/",
          "height": 295
        },
        "id": "pPiYWRRVoMGH",
        "outputId": "c5cdf2d1-4958-44af-9a76-1ab826f59f27"
      },
      "source": [
        "df_views.describe()"
      ],
      "execution_count": 127,
      "outputs": [
        {
          "output_type": "execute_result",
          "data": {
            "text/html": [
              "<div>\n",
              "<style scoped>\n",
              "    .dataframe tbody tr th:only-of-type {\n",
              "        vertical-align: middle;\n",
              "    }\n",
              "\n",
              "    .dataframe tbody tr th {\n",
              "        vertical-align: top;\n",
              "    }\n",
              "\n",
              "    .dataframe thead th {\n",
              "        text-align: right;\n",
              "    }\n",
              "</style>\n",
              "<table border=\"1\" class=\"dataframe\">\n",
              "  <thead>\n",
              "    <tr style=\"text-align: right;\">\n",
              "      <th></th>\n",
              "      <th>ts</th>\n",
              "      <th>id.orig_p</th>\n",
              "      <th>id.resp_p</th>\n",
              "      <th>missed_bytes</th>\n",
              "      <th>orig_pkts</th>\n",
              "      <th>orig_ip_bytes</th>\n",
              "      <th>resp_pkts</th>\n",
              "      <th>resp_ip_bytes</th>\n",
              "    </tr>\n",
              "  </thead>\n",
              "  <tbody>\n",
              "    <tr>\n",
              "      <th>count</th>\n",
              "      <td>3.532000e+03</td>\n",
              "      <td>3532.000000</td>\n",
              "      <td>3532.000000</td>\n",
              "      <td>3532.0</td>\n",
              "      <td>3532.000000</td>\n",
              "      <td>3532.000000</td>\n",
              "      <td>3532.000000</td>\n",
              "      <td>3532.000000</td>\n",
              "    </tr>\n",
              "    <tr>\n",
              "      <th>mean</th>\n",
              "      <td>1.527794e+09</td>\n",
              "      <td>607.023783</td>\n",
              "      <td>402.947905</td>\n",
              "      <td>0.0</td>\n",
              "      <td>1.381087</td>\n",
              "      <td>97.585221</td>\n",
              "      <td>0.099094</td>\n",
              "      <td>7.523499</td>\n",
              "    </tr>\n",
              "    <tr>\n",
              "      <th>std</th>\n",
              "      <td>6.364453e+06</td>\n",
              "      <td>5989.352040</td>\n",
              "      <td>4084.164219</td>\n",
              "      <td>0.0</td>\n",
              "      <td>11.029312</td>\n",
              "      <td>728.310680</td>\n",
              "      <td>5.855653</td>\n",
              "      <td>445.781869</td>\n",
              "    </tr>\n",
              "    <tr>\n",
              "      <th>min</th>\n",
              "      <td>1.525880e+09</td>\n",
              "      <td>3.000000</td>\n",
              "      <td>0.000000</td>\n",
              "      <td>0.0</td>\n",
              "      <td>0.000000</td>\n",
              "      <td>0.000000</td>\n",
              "      <td>0.000000</td>\n",
              "      <td>0.000000</td>\n",
              "    </tr>\n",
              "    <tr>\n",
              "      <th>25%</th>\n",
              "      <td>1.525894e+09</td>\n",
              "      <td>3.000000</td>\n",
              "      <td>0.000000</td>\n",
              "      <td>0.0</td>\n",
              "      <td>1.000000</td>\n",
              "      <td>56.000000</td>\n",
              "      <td>0.000000</td>\n",
              "      <td>0.000000</td>\n",
              "    </tr>\n",
              "    <tr>\n",
              "      <th>50%</th>\n",
              "      <td>1.525907e+09</td>\n",
              "      <td>3.000000</td>\n",
              "      <td>1.000000</td>\n",
              "      <td>0.0</td>\n",
              "      <td>1.000000</td>\n",
              "      <td>68.000000</td>\n",
              "      <td>0.000000</td>\n",
              "      <td>0.000000</td>\n",
              "    </tr>\n",
              "    <tr>\n",
              "      <th>75%</th>\n",
              "      <td>1.526772e+09</td>\n",
              "      <td>11.000000</td>\n",
              "      <td>3.000000</td>\n",
              "      <td>0.0</td>\n",
              "      <td>1.000000</td>\n",
              "      <td>80.000000</td>\n",
              "      <td>0.000000</td>\n",
              "      <td>0.000000</td>\n",
              "    </tr>\n",
              "    <tr>\n",
              "      <th>max</th>\n",
              "      <td>1.569018e+09</td>\n",
              "      <td>62336.000000</td>\n",
              "      <td>55912.000000</td>\n",
              "      <td>0.0</td>\n",
              "      <td>654.000000</td>\n",
              "      <td>42791.000000</td>\n",
              "      <td>348.000000</td>\n",
              "      <td>26493.000000</td>\n",
              "    </tr>\n",
              "  </tbody>\n",
              "</table>\n",
              "</div>"
            ],
            "text/plain": [
              "                 ts     id.orig_p  ...    resp_pkts  resp_ip_bytes\n",
              "count  3.532000e+03   3532.000000  ...  3532.000000    3532.000000\n",
              "mean   1.527794e+09    607.023783  ...     0.099094       7.523499\n",
              "std    6.364453e+06   5989.352040  ...     5.855653     445.781869\n",
              "min    1.525880e+09      3.000000  ...     0.000000       0.000000\n",
              "25%    1.525894e+09      3.000000  ...     0.000000       0.000000\n",
              "50%    1.525907e+09      3.000000  ...     0.000000       0.000000\n",
              "75%    1.526772e+09     11.000000  ...     0.000000       0.000000\n",
              "max    1.569018e+09  62336.000000  ...   348.000000   26493.000000\n",
              "\n",
              "[8 rows x 8 columns]"
            ]
          },
          "metadata": {},
          "execution_count": 127
        }
      ]
    },
    {
      "cell_type": "code",
      "metadata": {
        "colab": {
          "base_uri": "https://localhost:8080/"
        },
        "id": "6Yu_UAU1tLyq",
        "outputId": "4bbd2625-3d67-4995-8a02-0e50f7313f24"
      },
      "source": [
        "df_views['city']"
      ],
      "execution_count": 137,
      "outputs": [
        {
          "output_type": "execute_result",
          "data": {
            "text/plain": [
              "143          Tokyo\n",
              "148         Zagreb\n",
              "192        Qingdao\n",
              "296          Suwon\n",
              "318      Beaverton\n",
              "           ...    \n",
              "81512    Anyang-si\n",
              "82282       Sendai\n",
              "85245      Cardiff\n",
              "91543    Lancaster\n",
              "95267    São Paulo\n",
              "Name: city, Length: 3532, dtype: object"
            ]
          },
          "metadata": {},
          "execution_count": 137
        }
      ]
    },
    {
      "cell_type": "code",
      "metadata": {
        "id": "zIajsKo8-EES"
      },
      "source": [
        "le = preprocessing.LabelEncoder()"
      ],
      "execution_count": 14,
      "outputs": []
    },
    {
      "cell_type": "code",
      "metadata": {
        "id": "EgMllE4qqDjK"
      },
      "source": [
        "df_views['uid']=le.fit_transform(df_views['uid'])\n",
        "df_views['id.orig_h']= le.fit_transform(df_views['id.orig_h'])\n",
        "df_views['id.resp_h']=le.fit_transform(df_views['id.resp_h'])\n",
        "df_views['proto']=le.fit_transform(df_views['proto'])\n",
        "df_views['service']=le.fit_transform(df_views['service'])\n",
        "df_views['conn_state']=le.fit_transform(df_views['conn_state'])\n",
        "df_views['continent']=le.fit_transform(df_views['continent'])\t\n",
        "df_views['country']=le.fit_transform(df_views['country'])\t\n",
        "df_views['label']=le.fit_transform(df_views['label'])"
      ],
      "execution_count": 15,
      "outputs": []
    },
    {
      "cell_type": "code",
      "metadata": {
        "id": "9qV0EzAi5TVE"
      },
      "source": [
        "feature_cols = ['ts','id.orig_p','id.resp_p','missed_bytes','orig_pkts','orig_ip_bytes','resp_pkts','resp_ip_bytes','id.orig_h','id.resp_h','proto','service','conn_state','continent','country']\n",
        "X = df_views[feature_cols] # Features\n",
        "y = df_views.label\n"
      ],
      "execution_count": 16,
      "outputs": []
    },
    {
      "cell_type": "code",
      "metadata": {
        "id": "yvNbVwtb-PIj"
      },
      "source": [
        "X_train, X_test, y_train, y_test = train_test_split(X, y, test_size=0.3, random_state=1)"
      ],
      "execution_count": 19,
      "outputs": []
    },
    {
      "cell_type": "code",
      "metadata": {
        "colab": {
          "base_uri": "https://localhost:8080/"
        },
        "id": "osAb32Xd6wY-",
        "outputId": "7d3e7a11-5f4c-4615-c751-2816be80280c"
      },
      "source": [
        "sc=StandardScaler()\n",
        "X_train=sc.fit_transform(X_train)\n",
        "\n",
        "linear_regression = LinearRegression()\n",
        "\n",
        "linear_regression.fit(X_train,y_train)\n",
        "\n"
      ],
      "execution_count": 20,
      "outputs": [
        {
          "output_type": "execute_result",
          "data": {
            "text/plain": [
              "LinearRegression()"
            ]
          },
          "metadata": {},
          "execution_count": 20
        }
      ]
    },
    {
      "cell_type": "code",
      "metadata": {
        "id": "KmljeqPy-a4s"
      },
      "source": [
        "predictions=linear_regression.predict(X_test)"
      ],
      "execution_count": 24,
      "outputs": []
    },
    {
      "cell_type": "code",
      "metadata": {
        "id": "tk6U34P6-f6g"
      },
      "source": [
        "from sklearn.metrics import mean_squared_error"
      ],
      "execution_count": 22,
      "outputs": []
    },
    {
      "cell_type": "code",
      "metadata": {
        "id": "jz7y2DdI-lgp"
      },
      "source": [
        "errors = mean_squared_error(y_test, predictions, squared=False)"
      ],
      "execution_count": 25,
      "outputs": []
    }
  ]
}